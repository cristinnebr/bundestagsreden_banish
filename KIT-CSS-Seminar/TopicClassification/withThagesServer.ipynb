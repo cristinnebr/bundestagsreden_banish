{
 "cells": [
  {
   "cell_type": "code",
   "execution_count": 1,
   "id": "initial_id",
   "metadata": {
    "collapsed": true,
    "ExecuteTime": {
     "end_time": "2025-08-26T15:19:48.223983Z",
     "start_time": "2025-08-26T15:19:47.789156Z"
    }
   },
   "outputs": [],
   "source": [
    "import jsonlines\n",
    "import ast\n",
    "from langchain_openai import ChatOpenAI\n",
    "from langchain.prompts import ChatPromptTemplate\n",
    "import os\n",
    "from collections import Counter\n",
    "from itertools import chain\n",
    "import json\n",
    "\n",
    "thages_key = os.environ['THAGES_API_KEY']\n"
   ]
  },
  {
   "cell_type": "code",
   "execution_count": 7,
   "outputs": [],
   "source": [
    "legislatur = 20\n",
    "\n",
    "alleReden = []\n",
    "with jsonlines.open(f'../../data/speeches_{legislatur}.jsonl') as f:\n",
    "    for line in f.iter():\n",
    "        #for line in list(f):\n",
    "        alleReden.append(line)\n",
    "\n",
    "alleReden.sort(key = lambda x:x['date'])\n",
    "len(alleReden)\n",
    "rede = alleReden[11111]"
   ],
   "metadata": {
    "collapsed": false,
    "ExecuteTime": {
     "end_time": "2025-08-26T15:20:27.060931Z",
     "start_time": "2025-08-26T15:20:26.721987Z"
    }
   },
   "id": "f849384e7794b8aa"
  },
  {
   "cell_type": "code",
   "execution_count": 8,
   "outputs": [],
   "source": [
    "topics = ['Zuwanderung und Flucht', 'Energiepolitik und Energiemanagement', 'Wirtschaftslage', 'Inflation', 'Gesundheitswesen', 'Bildung', 'Wohnen und Mieten', 'Verkehr und Mobilität', 'Soziale Ungleichheit', 'Digitalisierung', 'Rente und Altersvorsorge', 'Sicherheit und Terrorismus', 'Künstliche Intelligenz', 'Cybersicherheit', 'Globalisierung', 'Europäische Union', 'Forschung und Innovation', 'Klimaschutz', 'Arbeitsmarkt', 'Integration', 'Außenpolitik', 'Kultur und Kunst', 'Familienpolitik', 'Geschlechtergerechtigkeit', 'Sport und Freizeit', 'Konsumverhalten', 'Medien und Kommunikation', 'Rechtsextremismus', 'Demokratie und Partizipation', 'Jugendpolitik', 'Städteentwicklung', 'Landwirtschaft', 'Infrastrukturprojekte', 'Finanzpolitik', 'Krise und Katastrophenmanagement', 'Friedenspolitik', 'Tierschutz', 'Mittelstand und KMU', 'Bildungsgerechtigkeit', 'Tourismus', 'Kommunalpolitik', 'Ehrenamt und Zivilgesellschaft', 'Verteidigung', 'Sonstige Themen']\n",
    "\n",
    "descriptions = ['Der Umgang mit Migration, Asyl und Integration ', 'Die Aufrechterhaltung und Ausbau von Erneuerbaren Energien sowie fossiler Energieträger', 'Die wirtschaftliche Stabilität ist zentrales Anliegen.', 'Bekämpfung und Steuerung der Inflation sind zentrale Anliegen ', 'Verbesserungen im Gesundheitssystem und die Bewältigung der Folgen der Pandemie stehen im Fokus.', 'Reformen und Investitionen im Bildungssektor, Förderung von Chancengleichheit und Erhöhung der Bildungsqualität', 'Wohnungsnot, Bauvorhaben und steigende Mietpreise stehen im Fokus', 'Der Ausbau nachhaltiger Verkehrsnetze und die Förderung von E-Mobilität sind wichtige Themen.', 'Maßnahmen zur Bekämpfung der sozialen Ungleichheit und zur Förderung der sozialen Gerechtigkeit.', 'Fortschritte in der Digitalisierung und die Förderung von digitaler Infrastruktur.', 'Sicherung der Renten und Anpassungen an demografische Veränderungen.', 'Innere Sicherheit und Maßnahmen gegen Terrorismus.', 'Regulierung und Integration von KI in den Alltag und die Arbeitswelt.', 'Schutz vor Cyberangriffen und Datenschutz.', 'Auswirkungen der Globalisierung auf die deutsche Wirtschaft und Gesellschaft.', 'Die Rolle Deutschlands in der EU und die Europawahlen.', 'Förderung von Wissenschaft und technologischen Innovationen.', 'Maßnahmen zum Schutz der Klima, Natur, Umwelt und  Biodiversität für eine nachhaltige Umwelt', 'Herausforderungen und Chancen im Arbeitsmarkt, insbesondere durch Automatisierung und KI.', 'Erfolgreiche Integration von Geflüchteten und Minderheiten in die Gesellschaft und den Arbeitsmarkt.', 'Deutschlands Rolle in der internationalen Politik und Beziehungen zu anderen Ländern.', 'Förderung von Kultur und Kunst sowie deren Zugang für alle Bevölkerungsschichten.', 'Unterstützung von Familien und Kinderbetreuung.', 'Förderung der Gleichstellung der Geschlechter.', 'Organisation und Förderung von Sportereignissen', 'Veränderungen im Konsumverhalten und deren Auswirkungen.', 'Veränderungen in der Medienlandschaft und die Rolle der sozialen Medien.', 'Bekämpfung von Rechtsextremismus und Rassismus.', 'Stärkung der demokratischen Strukturen und Bürgerbeteiligung.', 'Förderung von Jugendprojekten und Partizipationsmöglichkeiten für junge Menschen.', 'Nachhaltige Entwicklung und Planung von Städten.', 'Zukunft der Landwirtschaft und nachhaltige Agrarwirtschaft.', 'Ausbau und Modernisierung der deutschen Infrastruktur.', 'Maßnahmen zur Haushaltskonsolidierung und Steuerpolitik sowie Regulierung der Finanzmärkte', 'Vorbereitungen und Maßnahmen zur Bewältigung von Krisen.', 'Einsatz für internationale Friedensbemühungen.', 'Maßnahmen zum Schutz von Tieren und Tierrechten.', 'Unterstützung für kleine und mittlere Unternehmen.', 'Maßnahmen zur Förderung der Chancengleichheit im Bildungsbereich.', 'Förderung und nachhaltige Entwicklung des Tourismus.', 'Herausforderungen und Chancen auf kommunaler Ebene.', 'Unterstützung und Förderung des ehrenamtlichen Engagements.', 'Gewährleistung der nationale Sicherheit durch eine Kombination aus diplomatischen, militärischen und zivilen Maßnahmen sowie durch die Zusammenarbeit mit internationalen Partnern.', 'bspw. Geschäftsordnung etc. also alles was den oberen Themen nicht zuordnungsbar ist.']"
   ],
   "metadata": {
    "collapsed": false,
    "ExecuteTime": {
     "end_time": "2025-08-26T15:20:27.930830Z",
     "start_time": "2025-08-26T15:20:27.924930Z"
    }
   },
   "id": "89033034db371a6c"
  },
  {
   "cell_type": "code",
   "execution_count": 9,
   "outputs": [],
   "source": [
    "base_url = 'http://thages.philosophie.kit.edu:8080/v1'\n",
    "\n"
   ],
   "metadata": {
    "collapsed": false,
    "ExecuteTime": {
     "end_time": "2025-08-26T15:20:31.796886Z",
     "start_time": "2025-08-26T15:20:31.788232Z"
    }
   },
   "id": "4ab41e4101417e0a"
  },
  {
   "cell_type": "code",
   "execution_count": 10,
   "outputs": [],
   "source": [
    "num_topics = 3\n",
    "topic_descriptions = \"\\n\".join(\n",
    "    [f\"[{topic}]: {desc}\" for topic, desc in zip(topics, descriptions)]\n",
    ")\n",
    "\n",
    "topics_prompt = \"\\n\".join(\n",
    "    [f\"{tx+1}. {topic}\" for tx,topic in enumerate(topics)]\n",
    ")\n",
    "\n",
    "#rede=alleReden[21000]['text']\n",
    "\n",
    "system_msg = f\"Du bist ein politischer Themenanalyst.\" \n",
    "f\"Du bist darauf spezialisiert, Bundestagsreden präzise nach vordefinierten Themen zu klassifizieren.\"\n",
    "f\"\"\"Die vordefinierten Themen mit einer kurzen Beschreibung findest du hier:\n",
    "{topic_descriptions}.\n",
    "\"\"\"\n",
    "f\"Bitte wähle nur aus diesen vordefinierten Themen. Keine Beschreibungen!\"\n",
    "\n",
    "user_msg = f'''Ordne eine Rede aus dem deutschen Bundestag thematisch einer Kategorie zu. Hier sind die Kategorien als python-Liste {topics}. Gib ausschließlich die {num_topics} relevantesten Kategorien in dieser Liste zurück. Bitte als Output nur eine python-Liste. Keine Beschreibungen oder Erläuterungen!\n",
    "\n",
    "Rede:\n",
    "{rede['text']}\n",
    "'''\n",
    "\n",
    "#print(user_msg)"
   ],
   "metadata": {
    "collapsed": false,
    "ExecuteTime": {
     "end_time": "2025-08-26T15:20:32.305558Z",
     "start_time": "2025-08-26T15:20:32.302390Z"
    }
   },
   "id": "bbe88181c02152d7"
  },
  {
   "cell_type": "code",
   "execution_count": 11,
   "outputs": [
    {
     "name": "stdout",
     "output_type": "stream",
     "text": [
      "['Zuwanderung und Flucht', 'Gesundheitswesen', 'Wohnen und Mieten']\n"
     ]
    }
   ],
   "source": [
    "llm = ChatOpenAI(\n",
    "    model = \"meta-llama/Llama-3.1-8B-Instruct\",\n",
    "    base_url=base_url,\n",
    "    openai_api_key=thages_key,\n",
    "    max_tokens=2048,\n",
    "    n=10\n",
    ")\n",
    "\n",
    "messages=[\n",
    "    {\n",
    "        \"role\": \"system\",\n",
    "        \"content\": system_msg\n",
    "    },\n",
    "    {\n",
    "        \"role\": \"user\",\n",
    "        \"content\": user_msg\n",
    "    }\n",
    "]\n",
    "\n",
    "response = llm.invoke(messages)\n",
    "print(response.content)"
   ],
   "metadata": {
    "collapsed": false,
    "ExecuteTime": {
     "end_time": "2025-08-26T15:20:36.386913Z",
     "start_time": "2025-08-26T15:20:34.543716Z"
    }
   },
   "id": "f110dfc36ffaf970"
  },
  {
   "cell_type": "code",
   "execution_count": 50,
   "outputs": [
    {
     "name": "stdout",
     "output_type": "stream",
     "text": [
      "['Arbeitsmarkt', 'Finanzpolitik', 'Klimaschutz']\n",
      "['Verkehr und Mobilität', 'Wirtschaftslage', 'Gesundheitswesen']\n",
      "['Wirtschaftslage', 'Arbeitsmarkt', 'Infrastrukturprojekte']\n",
      "['Zuwanderung und Flucht', 'Wohnen und Mieten', 'Arbeitsmarkt']\n",
      "['Zuwanderung und Flucht', 'Wirtschaftslage', 'Arbeitsmarkt']\n",
      "{'Arbeitsmarkt': 0.8, 'Wirtschaftslage': 0.6, 'Zuwanderung und Flucht': 0.4, 'Finanzpolitik': 0.2, 'Klimaschutz': 0.2, 'Verkehr und Mobilität': 0.2, 'Gesundheitswesen': 0.2, 'Infrastrukturprojekte': 0.2, 'Wohnen und Mieten': 0.2}\n",
      "0\n"
     ]
    }
   ],
   "source": [
    "num_samples = 5\n",
    "all_cats = []\n",
    "failed = 0\n",
    "for sample in range(num_samples):\n",
    "    try:\n",
    "        llm = ChatOpenAI(\n",
    "            model = \"meta-llama/Llama-3.1-8B-Instruct\",\n",
    "            base_url=base_url,\n",
    "            openai_api_key=thages_key,\n",
    "            max_tokens=2096\n",
    "        )\n",
    "        response = llm.invoke(messages)\n",
    "        cats = ast.literal_eval(response.content)\n",
    "        if isinstance(cats, list):       \n",
    "            all_cats.append(cats)\n",
    "        else:\n",
    "            failed += 1\n",
    "            continue\n",
    "    except Exception as e:\n",
    "        print(f\"[Sample {sample+1}] Error: {e}\")\n",
    "        failed += 1\n",
    "        continue  \n",
    "    print(cats)    \n",
    "# Flatten and count\n",
    "flat = list(chain.from_iterable(all_cats))\n",
    "counter = Counter(flat)\n",
    "total = sum(counter.values())\n",
    "counter = {k: v * num_topics / total for k, v in counter.items()}\n",
    "sorted_topics = dict(sorted(counter.items(), key=lambda x: x[1], reverse=True))\n",
    "    \n",
    "print(sorted_topics)\n",
    "print(failed)"
   ],
   "metadata": {
    "collapsed": false,
    "ExecuteTime": {
     "end_time": "2025-07-01T16:15:30.490236Z",
     "start_time": "2025-07-01T16:15:27.923071Z"
    }
   },
   "id": "e06f4b716a463fcf"
  },
  {
   "cell_type": "markdown",
   "source": [
    "# The big loop"
   ],
   "metadata": {
    "collapsed": false
   },
   "id": "8b48845b4ef82157"
  },
  {
   "cell_type": "code",
   "execution_count": 6,
   "outputs": [
    {
     "data": {
      "text/plain": "'Die vordefinierten Themen mit einer kurzen Beschreibung findest du hier:\\n[Zuwanderung und Flucht]: Der Umgang mit Migration, Asyl und Integration \\n[Energiepolitik und Energiemanagement]: Die Aufrechterhaltung und Ausbau von Erneuerbaren Energien sowie fossiler Energieträger\\n[Wirtschaftslage]: Die wirtschaftliche Stabilität ist zentrales Anliegen.\\n[Inflation]: Bekämpfung und Steuerung der Inflation sind zentrale Anliegen \\n[Gesundheitswesen]: Verbesserungen im Gesundheitssystem und die Bewältigung der Folgen der Pandemie stehen im Fokus.\\n[Bildung]: Reformen und Investitionen im Bildungssektor, Förderung von Chancengleichheit und Erhöhung der Bildungsqualität\\n[Wohnen und Mieten]: Wohnungsnot, Bauvorhaben und steigende Mietpreise stehen im Fokus\\n[Verkehr und Mobilität]: Der Ausbau nachhaltiger Verkehrsnetze und die Förderung von E-Mobilität sind wichtige Themen.\\n[Soziale Ungleichheit]: Maßnahmen zur Bekämpfung der sozialen Ungleichheit und zur Förderung der sozialen Gerechtigkeit.\\n[Digitalisierung]: Fortschritte in der Digitalisierung und die Förderung von digitaler Infrastruktur.\\n[Rente und Altersvorsorge]: Sicherung der Renten und Anpassungen an demografische Veränderungen.\\n[Sicherheit und Terrorismus]: Innere Sicherheit und Maßnahmen gegen Terrorismus.\\n[Künstliche Intelligenz]: Regulierung und Integration von KI in den Alltag und die Arbeitswelt.\\n[Cybersicherheit]: Schutz vor Cyberangriffen und Datenschutz.\\n[Globalisierung]: Auswirkungen der Globalisierung auf die deutsche Wirtschaft und Gesellschaft.\\n[Europäische Union]: Die Rolle Deutschlands in der EU und die Europawahlen.\\n[Forschung und Innovation]: Förderung von Wissenschaft und technologischen Innovationen.\\n[Klimaschutz]: Maßnahmen zum Schutz der Klima, Natur, Umwelt und  Biodiversität für eine nachhaltige Umwelt\\n[Arbeitsmarkt]: Herausforderungen und Chancen im Arbeitsmarkt, insbesondere durch Automatisierung und KI.\\n[Integration]: Erfolgreiche Integration von Geflüchteten und Minderheiten in die Gesellschaft und den Arbeitsmarkt.\\n[Außenpolitik]: Deutschlands Rolle in der internationalen Politik und Beziehungen zu anderen Ländern.\\n[Kultur und Kunst]: Förderung von Kultur und Kunst sowie deren Zugang für alle Bevölkerungsschichten.\\n[Familienpolitik]: Unterstützung von Familien und Kinderbetreuung.\\n[Geschlechtergerechtigkeit]: Förderung der Gleichstellung der Geschlechter.\\n[Sport und Freizeit]: Organisation und Förderung von Sportereignissen\\n[Konsumverhalten]: Veränderungen im Konsumverhalten und deren Auswirkungen.\\n[Medien und Kommunikation]: Veränderungen in der Medienlandschaft und die Rolle der sozialen Medien.\\n[Rechtsextremismus]: Bekämpfung von Rechtsextremismus und Rassismus.\\n[Demokratie und Partizipation]: Stärkung der demokratischen Strukturen und Bürgerbeteiligung.\\n[Jugendpolitik]: Förderung von Jugendprojekten und Partizipationsmöglichkeiten für junge Menschen.\\n[Städteentwicklung]: Nachhaltige Entwicklung und Planung von Städten.\\n[Landwirtschaft]: Zukunft der Landwirtschaft und nachhaltige Agrarwirtschaft.\\n[Infrastrukturprojekte]: Ausbau und Modernisierung der deutschen Infrastruktur.\\n[Finanzpolitik]: Maßnahmen zur Haushaltskonsolidierung und Steuerpolitik sowie Regulierung der Finanzmärkte\\n[Krise und Katastrophenmanagement]: Vorbereitungen und Maßnahmen zur Bewältigung von Krisen.\\n[Friedenspolitik]: Einsatz für internationale Friedensbemühungen.\\n[Tierschutz]: Maßnahmen zum Schutz von Tieren und Tierrechten.\\n[Mittelstand und KMU]: Unterstützung für kleine und mittlere Unternehmen.\\n[Bildungsgerechtigkeit]: Maßnahmen zur Förderung der Chancengleichheit im Bildungsbereich.\\n[Tourismus]: Förderung und nachhaltige Entwicklung des Tourismus.\\n[Kommunalpolitik]: Herausforderungen und Chancen auf kommunaler Ebene.\\n[Ehrenamt und Zivilgesellschaft]: Unterstützung und Förderung des ehrenamtlichen Engagements.\\n[Verteidigung]: Gewährleistung der nationale Sicherheit durch eine Kombination aus diplomatischen, militärischen und zivilen Maßnahmen sowie durch die Zusammenarbeit mit internationalen Partnern.\\n[Sonstige Themen]: bspw. Geschäftsordnung etc. also alles was den oberen Themen nicht zuordnungsbar ist..\\n\\nBitte wähle nur aus diesen vordefinierten Themen. Keine Beschreibungen!'"
     },
     "execution_count": 6,
     "metadata": {},
     "output_type": "execute_result"
    }
   ],
   "source": [
    "\n",
    "num_topics = 3\n",
    "\n",
    "topic_descriptions = \"\\n\".join(\n",
    "    [f\"[{topic}]: {desc}\" for topic, desc in zip(topics, descriptions)]\n",
    ")\n",
    "\n",
    "system_msg = f\"Du bist ein politischer Themenanalyst.\"\n",
    "f\"Du bist darauf spezialisiert, Bundestagsreden präzise nach vordefinierten Themen zu klassifizieren.\"\n",
    "f\"\"\"Die vordefinierten Themen mit einer kurzen Beschreibung findest du hier:\n",
    "{topic_descriptions}.\n",
    "\n",
    "Bitte wähle nur aus diesen vordefinierten Themen. Keine Beschreibungen!\"\"\"\n",
    "\n"
   ],
   "metadata": {
    "collapsed": false,
    "ExecuteTime": {
     "end_time": "2025-07-03T07:02:33.234399Z",
     "start_time": "2025-07-03T07:02:33.231716Z"
    }
   },
   "id": "2d98d6c9515d4b05"
  },
  {
   "cell_type": "code",
   "execution_count": 7,
   "outputs": [],
   "source": [
    "def sample_llm(rede,num_samples):\n",
    "    user_msg = f'''Ordne eine Rede aus dem deutschen Bundestag thematisch einer Kategorie zu. Hier sind die Kategorien als python-Liste {topics}. Gib ausschließlich die {num_topics} relevantesten Kategorien in dieser Liste zurück. Bitte als Output nur eine python-Liste. Keine Beschreibungen oder Erläuterungen!\n",
    "\n",
    "Rede:\n",
    "{rede['text']}\n",
    "'''\n",
    "    messages=[\n",
    "        {\n",
    "            \"role\": \"system\",\n",
    "            \"content\": system_msg\n",
    "        },\n",
    "        {\n",
    "            \"role\": \"user\",\n",
    "            \"content\": user_msg\n",
    "        }\n",
    "    ]\n",
    "\n",
    "    all_cats = []\n",
    "    for sample in range(num_samples):\n",
    "        failed = 0\n",
    "        try:\n",
    "            llm = ChatOpenAI(\n",
    "                model = \"meta-llama/Llama-3.1-8B-Instruct\",\n",
    "                base_url=base_url,\n",
    "                openai_api_key=thages_key,\n",
    "                max_tokens=600\n",
    "            )\n",
    "            response = llm.invoke(messages)\n",
    "            cats = ast.literal_eval(response.content)\n",
    "            if isinstance(cats, list):\n",
    "                all_cats.append(cats)\n",
    "            else:\n",
    "                failed += 1\n",
    "                continue\n",
    "        except Exception as e:\n",
    "            print(f\"Rede {rede['id']} Error: {e}\")\n",
    "            failed += 1\n",
    "            continue\n",
    "            # Flatten and count\n",
    "    flat = list(chain.from_iterable(all_cats))\n",
    "    counter = Counter(flat)\n",
    "    total = sum(counter.values())\n",
    "    counter = {k: v * num_topics / total for k, v in counter.items()}\n",
    "    sorted_topics = dict(sorted(counter.items(), key=lambda x: x[1], reverse=True))\n",
    "    \n",
    "    return sorted_topics\n"
   ],
   "metadata": {
    "collapsed": false,
    "ExecuteTime": {
     "end_time": "2025-07-03T07:02:35.978948Z",
     "start_time": "2025-07-03T07:02:35.977256Z"
    }
   },
   "id": "16cc7935d3e5df39"
  },
  {
   "cell_type": "code",
   "execution_count": 23,
   "outputs": [
    {
     "name": "stdout",
     "output_type": "stream",
     "text": [
      "Rede ID1923700500 Error: unterminated string literal (detected at line 1) (<unknown>, line 1)\n",
      "💾 Autosaved after 50 speeches\n",
      "Rede ID1923800800 Error: invalid syntax (<unknown>, line 1)\n",
      "💾 Autosaved after 100 speeches\n",
      "💾 Autosaved after 150 speeches\n",
      "Rede ID1923902200 Error: invalid syntax (<unknown>, line 1)\n"
     ]
    }
   ],
   "source": [
    "# Where to save\n",
    "# autosave_path = \"autosave_results.json\"\n",
    "\n",
    "num_samples = 5\n",
    "batch = 25\n",
    "batch_size = 1000\n",
    "themen_annotation_batch = {}\n",
    "for rx,rede in enumerate(alleReden[0 + batch*1000 : batch_size + batch*1000]):\n",
    "    if 1500 < len(rede[\"text\"]) < 10000:\n",
    "        try:\n",
    "            result = sample_llm(rede,num_samples)\n",
    "            themen_annotation_batch.update({rede['id'] : result})\n",
    "        except Exception as e:\n",
    "            print(f\"Rede {rede['id']} Error (outer): {e}\")\n",
    "            continue\n",
    "    else:\n",
    "        themen_annotation_batch.update({rede['id'] : {}})\n",
    "    if (rx+1) % 50 == 0:\n",
    "        with open(f\"autosave_results_{batch}.json\", \"w\", encoding=\"utf-8\") as f:\n",
    "            json.dump(themen_annotation_batch, f, ensure_ascii=False, indent=2)\n",
    "        print(f\"💾 Autosaved after {rx+1} speeches\")    \n"
   ],
   "metadata": {
    "collapsed": false,
    "ExecuteTime": {
     "end_time": "2025-07-04T12:33:56.901112Z",
     "start_time": "2025-07-04T12:25:27.349168Z"
    }
   },
   "id": "7ace4082d09dfead"
  },
  {
   "cell_type": "code",
   "execution_count": 40,
   "outputs": [
    {
     "name": "stdout",
     "output_type": "stream",
     "text": [
      "🔍 Found 29 batch files...\n",
      "✅ Done! Combined total: 25145 speech annotations.\n"
     ]
    }
   ],
   "source": [
    "\n",
    "import json\n",
    "import glob\n",
    "\n",
    "\n",
    "all_results = {}\n",
    "\n",
    "# Find all batch files (flexible pattern match)\n",
    "batch_files = sorted(glob.glob(\"autosave_results_*.json\"))\n",
    "\n",
    "print(f\"🔍 Found {len(batch_files)} batch files...\")\n",
    "\n",
    "for file in batch_files:\n",
    "    try:\n",
    "        with open(file, \"r\", encoding=\"utf-8\") as f:\n",
    "            batch_data = json.load(f)\n",
    "            all_results.update(batch_data)\n",
    "    except Exception as e:\n",
    "        print(f\"⚠️ Error loading {file}: {e}\")\n",
    "\n",
    "# Save combined dictionary\n",
    "with open(\"all_annotations_combined.json\", \"w\", encoding=\"utf-8\") as f:\n",
    "    json.dump(all_results, f, ensure_ascii=False, indent=2)\n",
    "\n",
    "print(f\"✅ Done! Combined total: {len(all_results)} speech annotations.\")\n",
    "\n"
   ],
   "metadata": {
    "collapsed": false,
    "ExecuteTime": {
     "end_time": "2025-07-05T06:00:34.929963Z",
     "start_time": "2025-07-05T06:00:34.771282Z"
    }
   },
   "id": "ab161e1f7efbafd1"
  },
  {
   "cell_type": "markdown",
   "source": [
    "# Missing"
   ],
   "metadata": {
    "collapsed": false
   },
   "id": "8595ced51fa9ec0d"
  },
  {
   "cell_type": "code",
   "execution_count": 43,
   "outputs": [
    {
     "name": "stdout",
     "output_type": "stream",
     "text": [
      "🚨 Missing 0 speech annotations.\n"
     ]
    },
    {
     "data": {
      "text/plain": "25187"
     },
     "execution_count": 43,
     "metadata": {},
     "output_type": "execute_result"
    }
   ],
   "source": [
    "# All expected IDs from the speech corpus\n",
    "all_ids = {r[\"id\"] for r in alleReden}\n",
    "\n",
    "# All IDs that have already been annotated\n",
    "annotated_ids = set(all_results.keys())\n",
    "\n",
    "# Find missing ones\n",
    "missing_ids = all_ids - annotated_ids\n",
    "print(f\"🚨 Missing {len(missing_ids)} speech annotations.\")\n",
    "\n",
    "missingSpeeches = [rede for rede in alleReden if rede['id'] in missing_ids]\n",
    "\n",
    "len(alleReden)\n"
   ],
   "metadata": {
    "collapsed": false,
    "ExecuteTime": {
     "end_time": "2025-07-05T06:10:57.913644Z",
     "start_time": "2025-07-05T06:10:57.904681Z"
    }
   },
   "id": "d9e5b756627d04eb"
  },
  {
   "cell_type": "code",
   "execution_count": 42,
   "outputs": [
    {
     "name": "stdout",
     "output_type": "stream",
     "text": [
      "Rede ID1923901900 Error: invalid syntax (<unknown>, line 1)\n",
      "Rede ID1923901900 Error: invalid syntax (<unknown>, line 1)\n",
      "Rede ID1923903600 Error: unexpected indent (<unknown>, line 3)\n"
     ]
    }
   ],
   "source": [
    "# Where to save\n",
    "# autosave_path = \"autosave_results.json\"\n",
    "\n",
    "batch = 3\n",
    "themen_annotation_batch = {}\n",
    "for rx,rede in enumerate(missingSpeeches):\n",
    "    if 1500 < len(rede[\"text\"]) < 10000:\n",
    "        try:\n",
    "            result = sample_llm(rede,num_samples)\n",
    "            themen_annotation_batch.update({rede['id'] : result})\n",
    "        except Exception as e:\n",
    "            print(f\"Rede {rede['id']} Error (outer): {e}\")\n",
    "            continue\n",
    "    else:\n",
    "        themen_annotation_batch.update({rede['id'] : {}})\n",
    "    if (rx+1) % 50 == 0:\n",
    "        with open(f\"autosave_results_m_{batch}.json\", \"w\", encoding=\"utf-8\") as f:\n",
    "            json.dump(themen_annotation_batch, f, ensure_ascii=False, indent=2)\n",
    "        print(f\"💾 Autosaved after {rx+1} speeches\")\n",
    "\n"
   ],
   "metadata": {
    "collapsed": false,
    "ExecuteTime": {
     "end_time": "2025-07-05T06:02:30.134585Z",
     "start_time": "2025-07-05T06:00:50.554121Z"
    }
   },
   "id": "6da12f2ec6f7bbac"
  },
  {
   "cell_type": "code",
   "execution_count": 170,
   "outputs": [],
   "source": [
    "for k in all_results.keys():\n",
    "    if not isinstance(k, (str, int, float, bool, type(None))):\n",
    "        print(f\"❌ Invalid key: {k} (type: {type(k)})\")\n"
   ],
   "metadata": {
    "collapsed": false,
    "ExecuteTime": {
     "end_time": "2025-07-02T19:02:52.365533Z",
     "start_time": "2025-07-02T19:02:52.358259Z"
    }
   },
   "id": "5a8f9c4ad109d8be"
  },
  {
   "cell_type": "code",
   "execution_count": 44,
   "outputs": [],
   "source": [
    "#print(len(all_results))\n",
    "all_results.update(themen_annotation_batch)\n",
    "#print(len(all_results))\n",
    "#themen_annotation.update(themen_annotation_batch)\n",
    "with open(\"topic_annotations_all.json\", \"w\", encoding=\"utf-8\") as f:\n",
    "    json.dump(all_results, f, ensure_ascii=False, indent=2)\n",
    "#len(themen_annotation)    "
   ],
   "metadata": {
    "collapsed": false,
    "ExecuteTime": {
     "end_time": "2025-07-05T06:11:35.385866Z",
     "start_time": "2025-07-05T06:11:35.251702Z"
    }
   },
   "id": "8a0ef3b63066911b"
  },
  {
   "cell_type": "code",
   "execution_count": 174,
   "outputs": [
    {
     "data": {
      "text/plain": "25417"
     },
     "execution_count": 174,
     "metadata": {},
     "output_type": "execute_result"
    }
   ],
   "source": [
    "def get_speech_by_id(speeches, target_id):\n",
    "    for speech in speeches:\n",
    "        if speech[\"id\"] == target_id:\n",
    "            return speech\n",
    "    return None  # not found\n",
    "\n",
    "rede = get_speech_by_id(alleReden,'ID204104500')\n",
    "#rede['text']\n",
    "\n",
    "len(all_results)\n",
    "del all_results['ID204104500']\n",
    "len(all_results)"
   ],
   "metadata": {
    "collapsed": false,
    "ExecuteTime": {
     "end_time": "2025-07-02T19:13:13.364860Z",
     "start_time": "2025-07-02T19:13:13.360527Z"
    }
   },
   "id": "b8ab9f984dc331f9"
  },
  {
   "cell_type": "code",
   "execution_count": 152,
   "outputs": [
    {
     "data": {
      "text/plain": "19778"
     },
     "execution_count": 152,
     "metadata": {},
     "output_type": "execute_result"
    }
   ],
   "source": [
    "gefilterte_reden = [rede for rede in alleReden if 1500 < len(rede[\"text\"]) < 10000]\n",
    "text_laengen = [len(rede['text']) for rede in gefilterte_reden]\n",
    "len(gefilterte_reden)"
   ],
   "metadata": {
    "collapsed": false,
    "ExecuteTime": {
     "end_time": "2025-07-02T11:24:16.810745Z",
     "start_time": "2025-07-02T11:24:16.806475Z"
    }
   },
   "id": "ca6eab1e1010a7e2"
  },
  {
   "cell_type": "code",
   "execution_count": 147,
   "outputs": [
    {
     "data": {
      "text/plain": "<Figure size 640x480 with 1 Axes>",
      "image/png": "[encoded data removed]"
     },
     "metadata": {},
     "output_type": "display_data"
    }
   ],
   "source": [
    "import matplotlib.pyplot as plt\n",
    "\n",
    "plt.hist(text_laengen, bins=100, color=\"skyblue\", edgecolor=\"black\")\n",
    "plt.title(\"Verteilung der Redelängen\")\n",
    "plt.xlabel(\"Anzahl Zeichen\")\n",
    "plt.ylabel(\"Anzahl Reden\")\n",
    "plt.grid(True)\n",
    "plt.show()"
   ],
   "metadata": {
    "collapsed": false,
    "ExecuteTime": {
     "end_time": "2025-07-02T09:41:33.439749Z",
     "start_time": "2025-07-02T09:41:33.348216Z"
    }
   },
   "id": "26f2eb6575517520"
  },
  {
   "cell_type": "code",
   "execution_count": null,
   "outputs": [],
   "source": [],
   "metadata": {
    "collapsed": false
   },
   "id": "be9aa057b2c8806"
  }
 ],
 "metadata": {
  "kernelspec": {
   "display_name": "Python 3",
   "language": "python",
   "name": "python3"
  },
  "language_info": {
   "codemirror_mode": {
    "name": "ipython",
    "version": 2
   },
   "file_extension": ".py",
   "mimetype": "text/x-python",
   "name": "python",
   "nbconvert_exporter": "python",
   "pygments_lexer": "ipython2",
   "version": "2.7.6"
  }
 },
 "nbformat": 4,
 "nbformat_minor": 5
}
