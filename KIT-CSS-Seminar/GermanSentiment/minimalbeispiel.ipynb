{
 "cells": [
  {
   "cell_type": "code",
   "execution_count": 2,
   "id": "initial_id",
   "metadata": {
    "collapsed": true,
    "ExecuteTime": {
     "end_time": "2024-07-05T11:16:25.053808Z",
     "start_time": "2024-07-05T11:16:19.611873Z"
    }
   },
   "outputs": [],
   "source": [
    "from germansentiment import SentimentModel"
   ]
  },
  {
   "cell_type": "code",
   "execution_count": 3,
   "outputs": [
    {
     "name": "stdout",
     "output_type": "stream",
     "text": [
      "['negative', 'negative', 'positive', 'positive', 'neutral', 'neutral']\n"
     ]
    }
   ],
   "source": [
    "model = SentimentModel()\n",
    "\n",
    "texts = [\n",
    "    \"Mit keinem guten Ergebniss\",\"Das ist gar nicht mal so gut\",\n",
    "    \"Total awesome!\",\"nicht so schlecht wie erwartet\",\n",
    "    \"Der Test verlief positiv.\",\"Sie fährt ein grünes Auto.\"]\n",
    "\n",
    "result = model.predict_sentiment(texts)\n",
    "print(result)"
   ],
   "metadata": {
    "collapsed": false,
    "ExecuteTime": {
     "end_time": "2024-07-05T11:16:31.012258Z",
     "start_time": "2024-07-05T11:16:26.891352Z"
    }
   },
   "id": "231bbba17fc5e90"
  },
  {
   "cell_type": "code",
   "execution_count": null,
   "outputs": [],
   "source": [],
   "metadata": {
    "collapsed": false
   },
   "id": "84a513723f6c5d83"
  }
 ],
 "metadata": {
  "kernelspec": {
   "display_name": "Python 3",
   "language": "python",
   "name": "python3"
  },
  "language_info": {
   "codemirror_mode": {
    "name": "ipython",
    "version": 2
   },
   "file_extension": ".py",
   "mimetype": "text/x-python",
   "name": "python",
   "nbconvert_exporter": "python",
   "pygments_lexer": "ipython2",
   "version": "2.7.6"
  }
 },
 "nbformat": 4,
 "nbformat_minor": 5
}
