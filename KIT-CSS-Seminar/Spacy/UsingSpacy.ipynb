{
 "cells": [
  {
   "cell_type": "markdown",
   "source": [
    "# Using Spacy for Preprocessing\n",
    "\n",
    "## We start with loading the data:"
   ],
   "metadata": {
    "collapsed": false
   },
   "id": "53a491fb6fef74c"
  },
  {
   "cell_type": "code",
   "execution_count": 20,
   "id": "initial_id",
   "metadata": {
    "collapsed": true,
    "ExecuteTime": {
     "end_time": "2024-05-16T10:19:05.322174Z",
     "start_time": "2024-05-16T10:19:05.119340Z"
    }
   },
   "outputs": [
    {
     "name": "stdout",
     "output_type": "stream",
     "text": [
      "19543\n"
     ]
    }
   ],
   "source": [
    "import jsonlines\n",
    "\n",
    "legislatur = 20\n",
    "\n",
    "alleReden = []\n",
    "with jsonlines.open(f'../../data/speeches_{legislatur}.jsonl') as f:\n",
    "    for line in f.iter():\n",
    "        #for line in list(f):\n",
    "        alleReden.append(line)\n",
    "\n",
    "alleReden.sort(key = lambda x:x['date'])\n",
    "\n",
    "print(len(alleReden))"
   ]
  },
  {
   "cell_type": "markdown",
   "source": [
    "## Now, let's import the spacy library.\n",
    "\n",
    "Es ist wahrscheinlich, dass es hier erst einmal Fehlermeldungen gibt, da spacy erst installiert werden muss. Außerdem werden Resourcen geladen, die Modelle für deutsche Sprachen enthalten.\n",
    "\n",
    "pip install -U spacy\n",
    "python -m spacy download de_core_news_sm\n"
   ],
   "metadata": {
    "collapsed": false
   },
   "id": "696f313370b98e3b"
  },
  {
   "cell_type": "code",
   "execution_count": 27,
   "outputs": [
    {
     "data": {
      "text/plain": "['Any',\n 'Config',\n 'Dict',\n 'Errors',\n 'Iterable',\n 'Language',\n 'Path',\n 'Union',\n 'Vocab',\n '__builtins__',\n '__cached__',\n '__doc__',\n '__file__',\n '__loader__',\n '__name__',\n '__package__',\n '__path__',\n '__spec__',\n '__version__',\n 'about',\n 'attrs',\n 'blank',\n 'cli',\n 'compat',\n 'displacy',\n 'errors',\n 'explain',\n 'git_info',\n 'glossary',\n 'info',\n 'kb',\n 'lang',\n 'language',\n 'lexeme',\n 'load',\n 'logger',\n 'lookups',\n 'matcher',\n 'ml',\n 'morphology',\n 'parts_of_speech',\n 'pipe_analysis',\n 'pipeline',\n 'prefer_gpu',\n 'registry',\n 'require_cpu',\n 'require_gpu',\n 'schemas',\n 'scorer',\n 'setup_default_warnings',\n 'strings',\n 'symbols',\n 'sys',\n 'tokenizer',\n 'tokens',\n 'training',\n 'ty',\n 'util',\n 'vectors',\n 'vocab']"
     },
     "execution_count": 27,
     "metadata": {},
     "output_type": "execute_result"
    }
   ],
   "source": [
    "import spacy\n",
    "nlp = spacy.load('de_core_news_sm') #load spacy model"
   ],
   "metadata": {
    "collapsed": false,
    "ExecuteTime": {
     "end_time": "2024-05-16T10:35:49.321679Z",
     "start_time": "2024-05-16T10:35:49.318398Z"
    }
   },
   "id": "5affbd2ad3f763c7"
  },
  {
   "cell_type": "markdown",
   "source": [
    "# Sentenization\n",
    "\n",
    "## Wir versuchen einfach einmal eine Rede in ihre Sätze..."
   ],
   "metadata": {
    "collapsed": false
   },
   "id": "1b90370917231ef7"
  },
  {
   "cell_type": "code",
   "execution_count": 24,
   "outputs": [],
   "source": [
    "rede = alleReden[100]\n",
    "doc = nlp(rede[\"text\"])\n",
    "text_lem = []\n",
    "text_pos = []\n",
    "for token in doc:\n",
    "    text_lem.append(token.lemma_)\n",
    "    text_pos.append(token.pos_)\n",
    "\n",
    "\n"
   ],
   "metadata": {
    "collapsed": false,
    "ExecuteTime": {
     "end_time": "2024-05-16T10:24:53.959622Z",
     "start_time": "2024-05-16T10:24:53.817656Z"
    }
   },
   "id": "3dbf015a87a2910b"
  },
  {
   "cell_type": "code",
   "execution_count": 11,
   "outputs": [
    {
     "data": {
      "text/plain": "743"
     },
     "execution_count": 11,
     "metadata": {},
     "output_type": "execute_result"
    }
   ],
   "source": [
    "len(text_lem)"
   ],
   "metadata": {
    "collapsed": false,
    "ExecuteTime": {
     "end_time": "2024-05-03T21:48:45.833204Z",
     "start_time": "2024-05-03T21:48:45.822731Z"
    }
   },
   "id": "9a22fc75a245922c"
  },
  {
   "cell_type": "code",
   "execution_count": 28,
   "outputs": [
    {
     "name": "stdout",
     "output_type": "stream",
     "text": [
      "Frau Präsidentin!\n",
      "Sehr geehrte Damen und Herren!\n",
      "Herr Frei, ich bin auch verwirrt;\n",
      "ich bin wirklich zutiefst verwirrt.\n",
      "Wenn der Ministerpräsident von Nordrhein-Westfalen vor zwei Tagen das Feiern von Karneval verteidigt und Sie heute dafür kämpfen, dass präventive Schulschließungen wieder möglich sind, dann bin ich verwirrt, dann frage ich mich, ob Sie die richtigen Prioritäten setzen.\n",
      "Sie haben hier den 27. Oktober zitiert.\n",
      "Am 25. Oktober – das ist gerade mal drei Wochen her – hat Ihr Gesundheitsminister gesagt:\n",
      "Die epidemische Lage soll auslaufen.\n",
      "– Ich bin verwirrt.\n",
      "Was ist denn los?\n",
      "Ihr aktueller Dauerkandidat für den CDU-Vorsitz fordert genau dasselbe.\n",
      "– Ich bin verwirrt.\n",
      "Im Vergleich zu Ihnen ist diese Ampel aus drei Parteien sehr, sehr sortiert, Herr Frei.\n",
      "Herr Stracke hat gesagt, er möchte gerne das bewährte Rechtsinstrument verlängern.\n",
      "Dieses Rechtsinstrument hat uns in diese Lage geführt, in der wir jetzt sind.\n",
      "Und Ihnen fällt nichts ein, außer es zu verlängern.\n",
      "Ich weiß genau, warum Sie das tun.\n",
      "Sie müssen sich dann nämlich nicht mit den Fragen und Abwägungen auseinandersetzen, wie wir es gemacht haben: welche Rolle eigentlich Kinder und Jugendliche in dieser Situation haben, ob sie wieder die Letzten sind, an die wir denken, ob die Betriebe das tragen können, was wir ihnen auferlegen, ob es sinnvoll ist, der überwiegenden Mehrheit in diesem Land, die sich hat impfen lassen und sich auch nachimpfen lassen wird, zu sagen:\n",
      "Ihr dürft jetzt gar nichts mehr, völlig egal, ob ihr geimpft seid oder nicht.\n",
      "– Das ist das, was Sie uns hier vorschlagen.\n",
      "Und das halten Sie für bewährt?\n",
      "Ich glaube, so bekloppt, wie Sie denken, sind die Leute da draußen nicht.\n",
      "Wir haben eine ernste Situation.\n",
      "Es werden Menschen sterben.\n",
      "Wir werden es nicht mehr verhindern können.\n",
      "Aber wir können dieser Welle etwas entgegensetzen:\n",
      "Das ist die Auffrischungsimpfung, und das ist das Impfen.\n",
      "Wenn wir das Versprechen an die Menschen, dass ihr Beitrag zum Brechen dieser Welle auch ihr Leben leichter macht, brechen, werden wir vielleicht den Hammer schwingen, vielleicht hier große Reden schwingen, aber dann werden wir das Wichtigste verlieren, was wir in dieser Pandemie brauchen: das Vertrauen und die Mitwirkungsbereitschaft der Menschen.\n",
      "Und das ist Ihr Vorschlag.\n",
      "Sie haben noch vor zwei Tagen im Ausschuss selbst gesagt:\n",
      "Ja, die Ausgangssperren brauchen wir nicht mehr.\n",
      "– Heute wollen Sie sie wieder reinschreiben.\n",
      "Was ist denn das für ein Kasperletheater?\n",
      "Sie führen hier eine Scheindebatte und können nicht die Frage beantworten, welche Maßnahmen Sie eigentlich für erforderlich halten, die hier nicht drinstehen.\n",
      "Herr Frei, Sie haben gesagt, wir würden Sie zwingen, etwas zuzustimmen, was Sie für falsch halten.\n",
      "Ich darf daran erinnern, dass wir, meine Fraktion, in den letzten Jahren bis an die Schmerzgrenze versucht haben, in diesem Land Konsens herzustellen, weil es das falsche Thema ist für parteipolitisches Geplänkel und Profilneurosen einer schwer belasteten Opposition.\n",
      "Es ist das falsche Thema.\n",
      "Ich weiß, dass es in der Union kluge, verantwortungsbewusste Leute gibt.\n",
      "Ich will Ihnen sagen, was Ihre Führung von Ihnen verlangt.\n",
      "Sie verlangt von Ihnen, heute gegen 3 G am Arbeitsplatz, gegen 3 G im öffentlichen Nahverkehr, gegen Hilfen für Krankenhäuser, die Coronapatienten behandeln, gegen eine Verlängerung der Regelungen in der Künstlersozialkasse zu stimmen.\n",
      "All das verlangt Ihre Spitze von Ihnen.\n",
      "Und was bekommen Sie dafür?\n",
      "Eine Länderöffnungsklausel ohne Übergangsfristen, also das totale Chaos.\n",
      "Ich rate Ihnen ab, diesen Weg mitzugehen.\n",
      "Ja, es geht hier auch um die Zukunft der Union.\n",
      "Es ist Ihre Verantwortung, darüber zu entscheiden.\n",
      "Aber ich kann Ihnen eines sagen:\n",
      "Sie gehen einen schweren Weg, wenn Sie den wählen, der erkennen lässt, dass Ihnen die Verantwortung in dieser Situation, die Verantwortung für das Gemeinwesen, für die Menschen in den Krankenhäusern weniger wichtig ist als eine billige Show.\n",
      "Bevor ich den nächsten Redner aufrufe, hat das Wort zu einer Kurzintervention der Abgeordnete Jens Spahn.\n"
     ]
    }
   ],
   "source": [
    "import pandas as pd\n",
    "\n",
    "#pd.DataFrame(text_pos, columns = text_lem)\n",
    "\n",
    "df = pd.DataFrame(list(zip(text_lem, text_pos)), columns = ['Lemmata', 'Part-of-Speech'])\n",
    "\n",
    "df\n"
   ],
   "metadata": {
    "collapsed": false,
    "ExecuteTime": {
     "end_time": "2024-05-16T10:39:34.165130Z",
     "start_time": "2024-05-16T10:39:34.157814Z"
    }
   },
   "id": "7debb09509516140"
  },
  {
   "cell_type": "code",
   "execution_count": 2,
   "outputs": [],
   "source": [
    "sents = []\n",
    "for sent in doc.sents:\n",
    "    print(sent.text)\n",
    "    sents.append(sent.text)"
   ],
   "metadata": {
    "collapsed": false,
    "ExecuteTime": {
     "end_time": "2024-05-15T18:39:03.243578Z",
     "start_time": "2024-05-15T18:39:03.222013Z"
    }
   },
   "id": "a8be3392a8f1312b"
  },
  {
   "cell_type": "code",
   "execution_count": 29,
   "outputs": [
    {
     "name": "stdout",
     "output_type": "stream",
     "text": [
      "Ihr aktueller Dauerkandidat für den CDU-Vorsitz fordert genau dasselbe.\n",
      "['ihr', 'aktuell', 'Dauerkandidat', 'für', 'der', 'CDU-Vorsitz', 'fordern', 'genau', 'dasselbe', '--']\n",
      "['DET', 'ADJ', 'NOUN', 'ADP', 'DET', 'NOUN', 'VERB', 'ADV', 'PRON', 'PUNCT']\n"
     ]
    }
   ],
   "source": [
    "such_worte = ['impfen','Impfen']\n",
    "rel_sents = [sent for sent in sents if any(wort in sent for wort in such_worte)]\n",
    "\n",
    "#any(wort in rede['text'] for wort in such_worte)\n"
   ],
   "metadata": {
    "collapsed": false,
    "ExecuteTime": {
     "end_time": "2024-05-16T10:40:39.474943Z",
     "start_time": "2024-05-16T10:40:39.472487Z"
    }
   },
   "id": "97a70d4f48ba4e02"
  },
  {
   "cell_type": "code",
   "execution_count": 9,
   "outputs": [
    {
     "data": {
      "text/plain": "3"
     },
     "execution_count": 9,
     "metadata": {},
     "output_type": "execute_result"
    }
   ],
   "source": [
    "rel_sents"
   ],
   "metadata": {
    "collapsed": false,
    "ExecuteTime": {
     "end_time": "2024-05-15T18:47:51.796708Z",
     "start_time": "2024-05-15T18:47:51.791127Z"
    }
   },
   "id": "916f4845aa696700"
  },
  {
   "cell_type": "code",
   "execution_count": 18,
   "outputs": [],
   "source": [
    "\n",
    "\n",
    "nes = []\n",
    "for sent in doc.sents:\n",
    "    print(sent.ents)\n",
    "    #nes.append(sent.text)"
   ],
   "metadata": {
    "collapsed": false,
    "ExecuteTime": {
     "end_time": "2024-05-15T18:59:53.777017Z",
     "start_time": "2024-05-15T18:59:47.844376Z"
    }
   },
   "id": "a07659ed75bd2dfd"
  },
  {
   "cell_type": "code",
   "execution_count": 19,
   "outputs": [
    {
     "data": {
      "text/plain": "         Lemmata Part-of-Speech\n0            ihr            DET\n1        aktuell            ADJ\n2  Dauerkandidat           NOUN\n3            für            ADP\n4            der            DET\n5    CDU-Vorsitz           NOUN\n6        fordern           VERB\n7          genau            ADV\n8       dasselbe           PRON\n9             --          PUNCT",
      "text/html": "<div>\n<style scoped>\n    .dataframe tbody tr th:only-of-type {\n        vertical-align: middle;\n    }\n\n    .dataframe tbody tr th {\n        vertical-align: top;\n    }\n\n    .dataframe thead th {\n        text-align: right;\n    }\n</style>\n<table border=\"1\" class=\"dataframe\">\n  <thead>\n    <tr style=\"text-align: right;\">\n      <th></th>\n      <th>Lemmata</th>\n      <th>Part-of-Speech</th>\n    </tr>\n  </thead>\n  <tbody>\n    <tr>\n      <th>0</th>\n      <td>ihr</td>\n      <td>DET</td>\n    </tr>\n    <tr>\n      <th>1</th>\n      <td>aktuell</td>\n      <td>ADJ</td>\n    </tr>\n    <tr>\n      <th>2</th>\n      <td>Dauerkandidat</td>\n      <td>NOUN</td>\n    </tr>\n    <tr>\n      <th>3</th>\n      <td>für</td>\n      <td>ADP</td>\n    </tr>\n    <tr>\n      <th>4</th>\n      <td>der</td>\n      <td>DET</td>\n    </tr>\n    <tr>\n      <th>5</th>\n      <td>CDU-Vorsitz</td>\n      <td>NOUN</td>\n    </tr>\n    <tr>\n      <th>6</th>\n      <td>fordern</td>\n      <td>VERB</td>\n    </tr>\n    <tr>\n      <th>7</th>\n      <td>genau</td>\n      <td>ADV</td>\n    </tr>\n    <tr>\n      <th>8</th>\n      <td>dasselbe</td>\n      <td>PRON</td>\n    </tr>\n    <tr>\n      <th>9</th>\n      <td>--</td>\n      <td>PUNCT</td>\n    </tr>\n  </tbody>\n</table>\n</div>"
     },
     "execution_count": 19,
     "metadata": {},
     "output_type": "execute_result"
    }
   ],
   "source": [
    "#doc.cats\n",
    "doc.spans\n"
   ],
   "metadata": {
    "collapsed": false,
    "ExecuteTime": {
     "end_time": "2024-05-15T18:59:53.777347Z",
     "start_time": "2024-05-15T18:59:47.848471Z"
    }
   },
   "id": "7b26df251ddc6c3"
  },
  {
   "cell_type": "code",
   "execution_count": null,
   "outputs": [],
   "source": [],
   "metadata": {
    "collapsed": false
   },
   "id": "5eb57bbaea09b1bf"
  }
 ],
 "metadata": {
  "kernelspec": {
   "display_name": "Python 3",
   "language": "python",
   "name": "python3"
  },
  "language_info": {
   "codemirror_mode": {
    "name": "ipython",
    "version": 2
   },
   "file_extension": ".py",
   "mimetype": "text/x-python",
   "name": "python",
   "nbconvert_exporter": "python",
   "pygments_lexer": "ipython2",
   "version": "2.7.6"
  }
 },
 "nbformat": 4,
 "nbformat_minor": 5
}
