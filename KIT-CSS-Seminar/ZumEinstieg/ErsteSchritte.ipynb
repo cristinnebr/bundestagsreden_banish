{
 "cells": [
  {
   "cell_type": "markdown",
   "source": [
    "# Zum Einstieg\n",
    "\n",
    "## Vorbereitung der Daten\n",
    "Dieses Notebook zeigt die Schritte, die wir in der Regel brauchen, um mit den Daten zu arbeiten.\n",
    "\n",
    "Dazu ist es zunächst nötig, die Daten lokal auf den Rechner zu speichern. Dazu legt ihr euch lokal im Hauptverzeichnis einen Ordner namens \"data\" an (`bundestagsreden/data/`). Die Daten liegen als ZIP File im Ilias. Die müssen in diesen neuen Ordner entpackt werden.\n",
    "\n",
    "Keine Angst, wenn das nicht gelingt. In der ersten Sitzung können wir evtl. Probleme beseitigen.\n",
    "\n",
    "## Jupyter Notebook\n",
    "\n",
    "Dies ist ein Jupyter Notebook. Es erlaubt einzelne, in Python geschriebene Programmteile als Skripte auszuführen und ist damit für die Entwicklung von Algorithmen und Exploration von Daten sehr gut geeignet.\n",
    "\n",
    "## Wir fangen einfach an!\n",
    "\n",
    "In Python fangen wir eigentlich immer damit an uns aus dem Pool der verfügbaren Dinge zu bedienen. Wir importieren also Bibliotheken (libraries), die wir brauchen werden.\n",
    "- jsonlines: in diesem Format sind die Daten abgespeichert.\n",
    "- matplotlib: für die Visualisierung\n",
    "\n",
    "***Wichtig:*** Nicht alle libraries sind schon installiert. In Python holt man sich, was man braucht. Wenn ihr also etwas seht wie \"Module not found\", dann muss die library noch auf euerem System installiert werden. Ich nutze dazu `pip install library-name`. Es gibt aber zu jeder library auch die Anleitung im Netz."
   ],
   "metadata": {
    "collapsed": false
   },
   "id": "1e9fff2d6ef9de21"
  },
  {
   "cell_type": "code",
   "execution_count": 6,
   "id": "initial_id",
   "metadata": {
    "collapsed": true,
    "ExecuteTime": {
     "end_time": "2025-04-29T12:39:16.255226Z",
     "start_time": "2025-04-29T12:39:16.211609Z"
    }
   },
   "outputs": [],
   "source": [
    "import jsonlines\n",
    "import matplotlib.pyplot as plt"
   ]
  },
  {
   "cell_type": "markdown",
   "source": [
    "Hiermit laden wir die Daten der 20. Legislaturperiode. Man kann ganz oben alternative auch die 19. Wahlperiode wählen."
   ],
   "metadata": {
    "collapsed": false
   },
   "id": "e0c1008f63894d69"
  },
  {
   "cell_type": "code",
   "execution_count": 7,
   "outputs": [],
   "source": [
    "legislatur = 20\n",
    "\n",
    "alleReden = []\n",
    "with jsonlines.open(f'../../data/speeches_{legislatur}.jsonl') as f:\n",
    "    for line in f.iter():\n",
    "        #for line in list(f):\n",
    "        alleReden.append(line)\n",
    "\n",
    "alleReden.sort(key = lambda x:x['date'])"
   ],
   "metadata": {
    "collapsed": false,
    "ExecuteTime": {
     "end_time": "2025-04-29T12:39:16.551389Z",
     "start_time": "2025-04-29T12:39:16.238169Z"
    }
   },
   "id": "f627b51d9d09eb9e"
  },
  {
   "cell_type": "markdown",
   "source": [
    "Schauen wir doch mal, wie viele Reden das sind ..."
   ],
   "metadata": {
    "collapsed": false
   },
   "id": "1ffe40e70ec84fe2"
  },
  {
   "cell_type": "code",
   "execution_count": 8,
   "outputs": [
    {
     "name": "stdout",
     "output_type": "stream",
     "text": [
      "25054\n"
     ]
    }
   ],
   "source": [
    "print(len(alleReden))"
   ],
   "metadata": {
    "collapsed": false,
    "ExecuteTime": {
     "end_time": "2025-04-29T12:39:16.555110Z",
     "start_time": "2025-04-29T12:39:16.552176Z"
    }
   },
   "id": "d5f089f5159dcb44"
  },
  {
   "cell_type": "markdown",
   "source": [
    "... und was drin ist:"
   ],
   "metadata": {
    "collapsed": false
   },
   "id": "991739402fbe0875"
  },
  {
   "cell_type": "code",
   "execution_count": 9,
   "outputs": [
    {
     "name": "stdout",
     "output_type": "stream",
     "text": [
      "{'text': 'Ich nehme die Wahl an, bedanke mich auf das Herzlichste für das Vertrauen und freue mich auf die Zusammenarbeit. – Vielen Dank. Vielen Dank. – Frau Kollegin Roth, nehmen Sie die Wahl an? ', 'name': 'Yvonne Magwas', 'party': 'CDU/CSU', 'redner_id': '11004346', 'id': 'ID20101100', 'period': '20', 'date': '2021-10-26', 'discussion_title': 'Tagesordnungspunkt 6 2021-10-26'}\n"
     ]
    }
   ],
   "source": [
    "welche = 10\n",
    "#welche = 1201    # das ist eine Auskommentierung. D.h. der Code wird nicht ausgeführt.\n",
    "print(alleReden[welche])"
   ],
   "metadata": {
    "collapsed": false,
    "ExecuteTime": {
     "end_time": "2025-04-29T12:39:16.555987Z",
     "start_time": "2025-04-29T12:39:16.554239Z"
    }
   },
   "id": "3dc0bf49c4ac03ea"
  },
  {
   "cell_type": "markdown",
   "source": [
    "## Informationen in den Daten und Ausgabe mit \"print\"\n",
    "\n",
    "Es gibt also die Felder, `text`, `name`,`party`,`redner_id`,`id`,`period`,`date` und `discussion_title`. Wenn wir auf eines dieser Felder in einer bestimmten Rede zugreifen wollen, dann geht das so:"
   ],
   "metadata": {
    "collapsed": false
   },
   "id": "b50a2561572117d0"
  },
  {
   "cell_type": "code",
   "execution_count": 10,
   "outputs": [
    {
     "name": "stdout",
     "output_type": "stream",
     "text": [
      "Die 10. Rede wurde gehalten von Yvonne Magwas (bei der CDU/CSU) und enthält folgenden Text: \n",
      " Ich nehme die Wahl an, bedanke mich auf das Herzlichste für das Vertrauen und freue mich auf die Zusammenarbeit. – Vielen Dank. Vielen Dank. – Frau Kollegin Roth, nehmen Sie die Wahl an? \n"
     ]
    }
   ],
   "source": [
    "\n",
    "print(f'Die {welche}. Rede wurde gehalten von {alleReden[welche][\"name\"]} (bei der {alleReden[welche][\"party\"]}) und enthält folgenden Text: \\n {alleReden[welche][\"text\"]}')\n"
   ],
   "metadata": {
    "collapsed": false,
    "ExecuteTime": {
     "end_time": "2025-04-29T12:39:16.558974Z",
     "start_time": "2025-04-29T12:39:16.557156Z"
    }
   },
   "id": "cdfd43f4551efd53"
  },
  {
   "cell_type": "markdown",
   "source": [
    "# Suche/Filtern\n",
    "\n",
    "In der Regel werden wir auf einen bestimmten Ausschnitt -- eine Untermenge -- der Daten schauen. Dies kann sein:\n",
    "- Reden, in denen ein bestimmtes Wort vorkommt\n",
    "- Reden einer bestimmten Person\n",
    "- Reden einer Partei\n",
    "- Reden in einer bestimmten zeitlichen Periode\n",
    "- ...\n",
    "\n",
    "Im folgenden möchte ich alle Reden, die \"künstliche Intelligenz\" enthalten."
   ],
   "metadata": {
    "collapsed": false
   },
   "id": "96f133a480c56d52"
  },
  {
   "cell_type": "code",
   "execution_count": 11,
   "outputs": [
    {
     "name": "stdout",
     "output_type": "stream",
     "text": [
      "Die Suche nach \"künstliche Intelligenz\" ergab 152 Reden\n"
     ]
    }
   ],
   "source": [
    "such_wort = 'künstliche Intelligenz'\n",
    "\n",
    "untermenge = [ rede for rede in alleReden if such_wort in rede['text']]\n",
    "print(f'Die Suche nach \"{such_wort}\" ergab {len(untermenge)} Reden')"
   ],
   "metadata": {
    "collapsed": false,
    "ExecuteTime": {
     "end_time": "2025-04-29T12:39:16.616244Z",
     "start_time": "2025-04-29T12:39:16.590088Z"
    }
   },
   "id": "c7629c2bba70f1d9"
  },
  {
   "cell_type": "markdown",
   "source": [
    "Nun wollen wir vielleicht noch wissen, wie oft eine bestimmte Partei \"künstliche Intelligenz\" erwähnt. Und vielleicht auch, welcher Politiker bzw. welche Politikerin bei der Partei sich dazu äußert."
   ],
   "metadata": {
    "collapsed": false
   },
   "id": "5f7e88885465e328"
  },
  {
   "cell_type": "code",
   "execution_count": 12,
   "outputs": [
    {
     "name": "stdout",
     "output_type": "stream",
     "text": [
      "Es gibt 45 Reden von der SPD, die \"künstliche Intelligenz\" enthalten.\n"
     ]
    }
   ],
   "source": [
    "partei = \"SPD\"\n",
    "untermenge2 = [ rede for rede in untermenge if partei in rede['party']]\n",
    "print(f'Es gibt {len(untermenge2)} Reden von der {partei}, die \"{such_wort}\" enthalten.')"
   ],
   "metadata": {
    "collapsed": false,
    "ExecuteTime": {
     "end_time": "2025-04-29T12:39:16.616463Z",
     "start_time": "2025-04-29T12:39:16.600776Z"
    }
   },
   "id": "6d583bdb98e37f98"
  },
  {
   "cell_type": "markdown",
   "source": [
    "## Eine erste Analyse mit Visualisierung\n",
    "\n",
    "Zum Abschluss dieses Einführenden Notebook wollen wir schauen, wei oft die verschiedenen Parteien \"künstliche Intelligenz\" erwähnen. Und wir wollen das Resultat visualisieren."
   ],
   "metadata": {
    "collapsed": false
   },
   "id": "9de7a888580f16ee"
  },
  {
   "cell_type": "code",
   "execution_count": 13,
   "outputs": [
    {
     "name": "stdout",
     "output_type": "stream",
     "text": [
      "Die SPD hat 45 Reden mit \"künstliche Intelligenz\" gehalten.\n",
      "Die FDP hat 30 Reden mit \"künstliche Intelligenz\" gehalten.\n",
      "Die CDU hat 36 Reden mit \"künstliche Intelligenz\" gehalten.\n",
      "Die LINKE hat 5 Reden mit \"künstliche Intelligenz\" gehalten.\n",
      "Die GRÜNEN hat 21 Reden mit \"künstliche Intelligenz\" gehalten.\n",
      "Die AfD hat 11 Reden mit \"künstliche Intelligenz\" gehalten.\n",
      "Die unknown hat 2 Reden mit \"künstliche Intelligenz\" gehalten.\n"
     ]
    }
   ],
   "source": [
    "parteien = ['SPD','FDP','CDU','LINKE','GRÜNEN','AfD','unknown'] # sind die richtig geschrieben?\n",
    "\n",
    "such_wort = 'künstliche Intelligenz'\n",
    "untermenge = [ rede for rede in alleReden if such_wort in rede['text']]\n",
    "\n",
    "frequencies = []\n",
    "for partei in parteien:\n",
    "    untermenge2 = [ rede for rede in untermenge if partei in rede['party']]\n",
    "    print(f'Die {partei} hat {len(untermenge2)} Reden mit \"{such_wort}\" gehalten.')\n",
    "    frequencies.append(len(untermenge2))"
   ],
   "metadata": {
    "collapsed": false,
    "ExecuteTime": {
     "end_time": "2025-04-29T12:39:16.660879Z",
     "start_time": "2025-04-29T12:39:16.641878Z"
    }
   },
   "id": "ce617c8a7ef986ef"
  },
  {
   "cell_type": "code",
   "execution_count": 14,
   "outputs": [
    {
     "data": {
      "text/plain": "<Figure size 640x480 with 1 Axes>",
      "image/png": "[encoded data removed]"
     },
     "metadata": {},
     "output_type": "display_data"
    }
   ],
   "source": [
    "\n",
    "\n",
    "plt.bar(parteien,frequencies,label=f'{such_wort}')\n",
    "plt.title(\"Verteilung der Häufigkeiten\")\n",
    "plt.xlabel(\"Partei\")\n",
    "plt.ylabel(\"Anzahl der Reden\")\n",
    "plt.legend(loc=\"upper left\")\n",
    "\n",
    "plt.show()"
   ],
   "metadata": {
    "collapsed": false,
    "ExecuteTime": {
     "end_time": "2025-04-29T12:39:16.726426Z",
     "start_time": "2025-04-29T12:39:16.644042Z"
    }
   },
   "id": "a3220dcb38cb497c"
  },
  {
   "cell_type": "markdown",
   "source": [
    "# Aufgaben und Fragen\n",
    "\n",
    "#### Warum sind Reden dabei, bei denen die Parteizugehörigkeit unbekannt ist?\n",
    "\n",
    "---> Finde die Namen dieser Redner heraus!\n",
    "---> Gibt es spezifische Tagesordnungspunkte (TOPs), wie beispielsweise Expertenanhörungen?\n",
    "\n",
    "#### Wie idendifizieren wir Reden, in denen es wirklich um KI geht, und das Thema nicht nur nebenbei erwähnt wird?\n",
    "\n",
    "---> Welche Worten stehen mit KI im Zusammenhang?\n",
    "\n",
    "## Übungen (Suche/Filtern der Daten):\n",
    "  \n",
    "1. Probiert das für andere Worte aus.\n",
    "2. Findet Reden, in denen mehrere gegebene Worte vorkommen.\n",
    "3. Findet Reden einer bestimmten Person.\n",
    "4. Reden einer Partei.\n",
    "5. Reden in einer bestimmten zeitlichen Periode.\n",
    "6. Kombiniert das nach Belieben (z.B. alle Reden dieses Jahres der SPD zu einem Thema)\n",
    "\n"
   ],
   "metadata": {
    "collapsed": false
   },
   "id": "5ac02d697aa10609"
  },
  {
   "cell_type": "code",
   "execution_count": 14,
   "outputs": [],
   "source": [],
   "metadata": {
    "collapsed": false,
    "ExecuteTime": {
     "end_time": "2025-04-29T12:39:16.727161Z",
     "start_time": "2025-04-29T12:39:16.726096Z"
    }
   },
   "id": "3ba07ee71c1e17c0"
  }
 ],
 "metadata": {
  "kernelspec": {
   "display_name": "Python 3",
   "language": "python",
   "name": "python3"
  },
  "language_info": {
   "codemirror_mode": {
    "name": "ipython",
    "version": 2
   },
   "file_extension": ".py",
   "mimetype": "text/x-python",
   "name": "python",
   "nbconvert_exporter": "python",
   "pygments_lexer": "ipython2",
   "version": "2.7.6"
  }
 },
 "nbformat": 4,
 "nbformat_minor": 5
}
