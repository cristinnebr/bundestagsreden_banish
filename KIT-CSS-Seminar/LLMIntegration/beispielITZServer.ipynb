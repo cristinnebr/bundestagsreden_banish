{
 "cells": [
  {
   "cell_type": "markdown",
   "source": [
    "# Imports"
   ],
   "metadata": {
    "collapsed": false
   },
   "id": "df1e5b5862aaac11"
  },
  {
   "cell_type": "code",
   "execution_count": 1,
   "id": "initial_id",
   "metadata": {
    "collapsed": true,
    "ExecuteTime": {
     "end_time": "2025-07-02T13:52:56.444976Z",
     "start_time": "2025-07-02T13:52:55.911113Z"
    }
   },
   "outputs": [],
   "source": [
    "import jsonlines\n",
    "import ast\n",
    "from langchain_openai import ChatOpenAI\n",
    "from langchain.prompts import ChatPromptTemplate\n",
    "import os\n",
    "from collections import Counter\n",
    "from itertools import chain\n",
    "import json\n"
   ]
  },
  {
   "cell_type": "markdown",
   "source": [
    "# Server Adresse und API Key"
   ],
   "metadata": {
    "collapsed": false
   },
   "id": "19643b88d06d9339"
  },
  {
   "cell_type": "code",
   "execution_count": 5,
   "outputs": [],
   "source": [
    "\n",
    "base_url = 'http://thages.philosophie.kit.edu:8081/v1'\n",
    "\n",
    "#thages_key = 'hier muss der key rein'\n"
   ],
   "metadata": {
    "collapsed": false,
    "ExecuteTime": {
     "end_time": "2025-07-02T13:54:43.143829Z",
     "start_time": "2025-07-02T13:54:43.138651Z"
    }
   },
   "id": "673f39eb693bd2b2"
  },
  {
   "cell_type": "markdown",
   "source": [
    "# Ein erster Auruf"
   ],
   "metadata": {
    "collapsed": false
   },
   "id": "a6516defc15e37a2"
  },
  {
   "cell_type": "code",
   "execution_count": 6,
   "outputs": [
    {
     "name": "stdout",
     "output_type": "stream",
     "text": [
      "Das ist eine sehr philosophische Frage!\n",
      "\n",
      "Du bist... ein Rätsel, das ich gerade lösen muss. Aber ich denke, ich habe es geschafft! Du bist... ein Mensch, der mich fragt, wer du bist! Oder vielleicht bist du ein Schauspieler, der seine Rolle spielt? Oder einfach nur ein Brot, das nach Antworten sucht?\n",
      "\n",
      "Aber im Ernst, ich weiß es nicht genau. Aber ich kann dir helfen, deine Identität zu finden, wenn du mir sagen möchtest, wer du bist!\n"
     ]
    }
   ],
   "source": [
    "llm = ChatOpenAI(\n",
    "    model = \"meta-llama/Llama-3.1-8B-Instruct\",\n",
    "    base_url=base_url,\n",
    "    openai_api_key=thages_key,\n",
    "    max_tokens=1024\n",
    ")\n",
    "\n",
    "messages=[\n",
    "    {\n",
    "        \"role\": \"system\",\n",
    "        \"content\": 'Du bist ein witziger Assistent, der humorvolle Antworten gibt.'\n",
    "    },\n",
    "    {\n",
    "        \"role\": \"user\",\n",
    "        \"content\": 'Wer bin ich?'\n",
    "    }\n",
    "]\n",
    "\n",
    "response = llm.invoke(messages)\n",
    "print(response.content)\n"
   ],
   "metadata": {
    "collapsed": false,
    "ExecuteTime": {
     "end_time": "2025-07-02T13:54:48.052313Z",
     "start_time": "2025-07-02T13:54:46.494940Z"
    }
   },
   "id": "710116e432f0f0ea"
  },
  {
   "cell_type": "markdown",
   "source": [
    "# Ein kleines Beispiel mit den Reden"
   ],
   "metadata": {
    "collapsed": false
   },
   "id": "95d1084242e8b17"
  },
  {
   "cell_type": "code",
   "execution_count": 7,
   "outputs": [
    {
     "name": "stdout",
     "output_type": "stream",
     "text": [
      "Der Datensatz enthält 25643 Reden\n",
      "Eine sehr interessante Rede!\n",
      "\n",
      "Zusammenfassung:\n",
      "\n",
      "Die Rede ist von Christian Leye, einem Abgeordneten der Gruppe BSW. Er kritisiert die Ampelregierung für ihre Wirtschaftspolitik, die zu einer Rezession geführt hat. Die Wirtschaftszahlen sind schlecht, die Menschen sind verunsichert und die Arbeitslosigkeit steigt. Der Abgeordnete kritisiert auch die Planlosigkeit der Regierung, die zu einem ständigen Streit und einer Unsicherheit bei den Menschen geführt hat. Er fordert eine Wende in der Wirtschaftspolitik und einen Wechsel in der Regierung. Er bezeichnet die von der Ampel vorgeschlagene Prämie für den Abschied vom Bürgergeld in Höhe von 1.000 Euro als \"blanken Hohn\" für diejenigen, die jeden Morgen aufstehen und arbeiten.\n"
     ]
    }
   ],
   "source": [
    "# Laden\n",
    "legislatur = 20\n",
    "alleReden = []\n",
    "with jsonlines.open(f'../../data/speeches_{legislatur}.jsonl') as f:\n",
    "    for line in f.iter():\n",
    "        #for line in list(f):\n",
    "        alleReden.append(line)\n",
    "\n",
    "alleReden.sort(key = lambda x:x['date'])\n",
    "print(f\"Der Datensatz enthält {len(alleReden)} Reden\")\n",
    "\n",
    "# Eine Rede auswählen\n",
    "\n",
    "rede = alleReden[23000]\n",
    "\n",
    "# Prompt festlegen - also wen (system_msg) fragst du was (user_msg)\n",
    "messages=[\n",
    "    {\n",
    "        \"role\": \"system\",\n",
    "        \"content\": 'Du bist ein witziger Assistent, der humorvolle Antworten gibt.'\n",
    "    },\n",
    "    {\n",
    "        \"role\": \"user\",\n",
    "        \"content\": f\"Bitte fasse mir kurz (!) folgende Rede zusammen: {rede['text']}\"\n",
    "    }\n",
    "]\n",
    "\n",
    "# Aufrufen\n",
    "\n",
    "response = llm.invoke(messages)\n",
    "print(response.content)\n"
   ],
   "metadata": {
    "collapsed": false,
    "ExecuteTime": {
     "end_time": "2025-07-02T14:00:46.337942Z",
     "start_time": "2025-07-02T14:00:43.436093Z"
    }
   },
   "id": "c92d2978945a1e60"
  },
  {
   "cell_type": "code",
   "execution_count": null,
   "outputs": [],
   "source": [],
   "metadata": {
    "collapsed": false
   },
   "id": "4f50bc2643d9dcaf"
  }
 ],
 "metadata": {
  "kernelspec": {
   "display_name": "Python 3",
   "language": "python",
   "name": "python3"
  },
  "language_info": {
   "codemirror_mode": {
    "name": "ipython",
    "version": 2
   },
   "file_extension": ".py",
   "mimetype": "text/x-python",
   "name": "python",
   "nbconvert_exporter": "python",
   "pygments_lexer": "ipython2",
   "version": "2.7.6"
  }
 },
 "nbformat": 4,
 "nbformat_minor": 5
}
