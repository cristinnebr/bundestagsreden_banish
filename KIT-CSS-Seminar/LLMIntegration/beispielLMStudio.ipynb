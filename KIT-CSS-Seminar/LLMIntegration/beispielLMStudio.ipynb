{
 "cells": [
  {
   "cell_type": "markdown",
   "source": [
    "## Vorbereitung LM Studio\n",
    "\n",
    "Zunächst müssen wir LM Studio installieren und mindestens ein LLM herunterladen. Als Beispiel hier habe ich das LLAMA 3.1 Model (8B) geladen.\n",
    "\n",
    "Dieses Modell müssen wir in LM Studio lokal starten. Es läuft dann lokal auf dem Rechner, und wird automatisch gefunden.\n",
    "\n",
    "Dafür (und sowieso) brauchen wir die richtige Library und müssen das Modell instantiieren."
   ],
   "metadata": {
    "collapsed": false
   },
   "id": "aae74d7978f49d9a"
  },
  {
   "cell_type": "code",
   "execution_count": 5,
   "id": "initial_id",
   "metadata": {
    "collapsed": true,
    "ExecuteTime": {
     "end_time": "2025-06-03T09:39:57.049141Z",
     "start_time": "2025-06-03T09:39:57.027050Z"
    }
   },
   "outputs": [],
   "source": [
    "\n",
    "import lmstudio as lms\n",
    "\n",
    "model = lms.llm(\"meta-llama-3.1-8b-instruct\")"
   ]
  },
  {
   "cell_type": "markdown",
   "source": [
    "### Wir probieren aus ob das prinzipiell klappt "
   ],
   "metadata": {
    "collapsed": false
   },
   "id": "dc226056415a8b04"
  },
  {
   "cell_type": "code",
   "execution_count": 6,
   "outputs": [
    {
     "name": "stdout",
     "output_type": "stream",
     "text": [
      "I'm an artificial intelligence model known as Llama. Llama stands for \"Large Language Model Meta AI.\"\n"
     ]
    }
   ],
   "source": [
    "result = model.respond(\"Who are you?\")\n",
    "print(result)"
   ],
   "metadata": {
    "collapsed": false,
    "ExecuteTime": {
     "end_time": "2025-06-03T09:40:01.199660Z",
     "start_time": "2025-06-03T09:40:00.652276Z"
    }
   },
   "id": "f8e21498b59c78c5"
  },
  {
   "cell_type": "markdown",
   "source": [
    "## Laden der Reden\n",
    "\n",
    "Wir wollen ja, das LLM benutzen, um die Reden zu charakterisieren. Also müssen wir die Reden laden. Das machen wir wie immer."
   ],
   "metadata": {
    "collapsed": false
   },
   "id": "bbd1e5483f4caa63"
  },
  {
   "cell_type": "code",
   "execution_count": 7,
   "outputs": [
    {
     "name": "stdout",
     "output_type": "stream",
     "text": [
      "25643\n"
     ]
    }
   ],
   "source": [
    "import jsonlines\n",
    "\n",
    "legislatur = 20\n",
    "\n",
    "alleReden = []\n",
    "with jsonlines.open(f'../../data/speeches_{legislatur}.jsonl') as f:\n",
    "    for line in f.iter():\n",
    "        #for line in list(f):\n",
    "        alleReden.append(line)\n",
    "\n",
    "alleReden.sort(key = lambda x:x['date'])\n",
    "print(len(alleReden))"
   ],
   "metadata": {
    "collapsed": false,
    "ExecuteTime": {
     "end_time": "2025-06-03T09:40:06.846100Z",
     "start_time": "2025-06-03T09:40:06.490575Z"
    }
   },
   "id": "47a2cebc43b3f609"
  },
  {
   "cell_type": "code",
   "execution_count": 8,
   "outputs": [
    {
     "name": "stdout",
     "output_type": "stream",
     "text": [
      "Von mir aus nicht, Herr Spahn. Bleiben Sie ruhig sitzen. Herr Spahn, ich finde das eigentlich gut, was Sie gesagt haben, weil wir jetzt in ein Gespräch kommen, und das biete ich der Union, das bieten wir alle der Union an, auch über diese Abstimmung heute hinaus. Wir sind schon im Hauptausschuss auf die Union zugegangen. Ich habe es in vier Jahren Opposition nicht einmal erlebt – nicht einmal! –, dass wir noch während einer laufenden Sitzung eine Änderung an einem Vorschlag der Regierungsfraktionen vorgenommen haben. Das ist diese Woche passiert. Ich weiß nicht, wie weit wir noch auf Sie zugehen sollen. Aber woran es krankt, ist: Sie machen keine konkreten Vorschläge. Sie sagen uns nicht, was genau Sie wollen. Kommen Sie auf uns zu, und wir reden gerne weiter. Vielen Dank. – Als nächster Redner hat jetzt das Wort für die FDP-Fraktion Michael Theurer. \n"
     ]
    }
   ],
   "source": [
    "welche = 102\n",
    "eineRede = alleReden[welche]\n",
    "print(eineRede['text'])"
   ],
   "metadata": {
    "collapsed": false,
    "ExecuteTime": {
     "end_time": "2025-06-03T09:40:09.969621Z",
     "start_time": "2025-06-03T09:40:09.961169Z"
    }
   },
   "id": "2dd20002fea9c4af"
  },
  {
   "cell_type": "markdown",
   "source": [
    "## Eine erste Anfrage"
   ],
   "metadata": {
    "collapsed": false
   },
   "id": "39e8e595660c27aa"
  },
  {
   "cell_type": "code",
   "execution_count": 9,
   "outputs": [
    {
     "name": "stdout",
     "output_type": "stream",
     "text": [
      "Die Rede wurde von Olaf Scholz gehalten, einem Mitglied der SPD-Fraktion im Deutschen Bundestag. Hier ist eine Zusammenfassung des Inhalts:\n",
      "\n",
      "Olaf Scholz beginnt seine Rede mit einer Anmerkung zu einem Vorschlag von Karl Lauterbach (SPD) und kritisiert damit die Union, dass diese nicht konstruktiv an dem Gespräch teilnimmt. Er bezeichnete den Vorschlag als eine gute Gelegenheit für ein Gespräch mit der Union.\n",
      "\n",
      "Er lobt die Geduld der SPD-Fraktion, die in vier Jahren Opposition noch kein Mal einen Änderungsvorschlag während einer laufenden Sitzung der Regierungsfraktionen vorgenommen hat. Er fragt sich, wie weit sie auf die Union zugehen sollen.\n",
      "\n",
      "Olaf Scholz kritisiert jedoch auch die Union, dass diese keine konkreten Vorschläge macht und nicht sagt, was genau sie wollen. Er bittet die Union, sich auf das Gespräch einzulassen und gemeinsam weiter zu diskutieren.\n",
      "\n",
      "Die Rede endet mit einer freundlichen Note, da Olaf Scholz Michael Theurer (FDP) als nächsten Redner einlädt.\n"
     ]
    }
   ],
   "source": [
    "system_msg = 'Du bist eine Experte in deutscher Politik. Dein Ziel ist es, den Menschen in Deutschland aktuelle politische Diskussionen verständlicher zu machen.'\n",
    "\n",
    "user_msg = f\"\"\"Kannst mir den Inhalt folgender Bundestagsrede zusammenfassen? Hier ist die Rede: '{eineRede['text']}' \"\"\"\n",
    "\n",
    "chat = lms.Chat()\n",
    "chat.add_system_prompt(system_msg)\n",
    "chat.add_user_message(user_msg)\n",
    "result = model.respond(chat)\n",
    "\n",
    "print(result)"
   ],
   "metadata": {
    "collapsed": false,
    "ExecuteTime": {
     "end_time": "2025-06-03T09:44:37.581001Z",
     "start_time": "2025-06-03T09:44:31.640693Z"
    }
   },
   "id": "c540e21d35d17b13"
  },
  {
   "cell_type": "markdown",
   "source": [
    "## Let's play!"
   ],
   "metadata": {
    "collapsed": false
   },
   "id": "5bb20d2b10c15508"
  },
  {
   "cell_type": "code",
   "execution_count": 11,
   "outputs": [
    {
     "name": "stdout",
     "output_type": "stream",
     "text": [
      "Die Rede ist von einem Bundestagsabgeordneten der Partei Bündnis 90/Die Grünen, wahrscheinlich Robin Wagener. Er kritisiert in seiner Rede die Politik der Union (CDU/CSU) in Bezug auf das Verhältnis zu Russland.\n",
      "\n",
      "Der Redner beginnt mit einer Anspielung auf ein russisches Lied und fragt, ob die Russen Krieg wollen. Er antwortet selbst, dass die Antwort \"nein\" ist und dass auch Deutschland keinen Krieg in Europa will.\n",
      "\n",
      "Der Redner wirft der Union vor, dass ihre Politik gegenüber Russland von Propaganda geprägt ist und dass sie Russland alleinige Verantwortung für die aktuellen Spannungen gibt. Er behauptet jedoch, dass es den Westen war, der über Jahre hinweg russische Sicherheitsinteressen ignoriert hat, was zu einer gereizten Reaktion von Russland geführt habe.\n",
      "\n",
      "Der Redner kritisiert auch, dass die Union Russland vorgeworfen wird, die Grenzen anderer Staaten zu missachten, während sie selbst dabei ist, NATO-Truppen in der Nähe russischer Grenzen zu stationieren. Er erinnert an den Angriffskrieg gegen Serbien im Jahr 1999 und fragt, warum der Selbstbestimmungsrecht der Völker dann nicht für die Krim oder den Donbass gilt.\n",
      "\n",
      "Der Redner kritisiert auch die Entscheidung der Union, Nord Stream 2 in Frage zu stellen, was er als verantwortungslos gegenüber dem deutschen Volk ansieht. Er behauptet, dass eine Verbesserung der Beziehungen zu Russland unverzichtbar ist für den Frieden und das Wohlstand auf unserem Kontinent.\n",
      "\n",
      "Abschließend lehnt der Redner den Antrag der Union ab und wiederholt die Frage \"Chotjat li russkie wojnyj?\" (Wollen die Russen Krieg?) mit der Antwort \"Njet\" (Nein).\n"
     ]
    }
   ],
   "source": [
    "welche = 1001\n",
    "eineRede = alleReden[welche]\n",
    "\n",
    "system_msg = 'Du bist eine Experte in deutscher Politik. Dein Ziel ist es, den Menschen in Deutschland aktuelle politische Diskussionen verständlicher zu machen.'\n",
    "\n",
    "user_msg = f\"\"\"Kannst mir den Inhalt folgender Bundestagsrede zusammenfassen? Hier ist die Rede: '{eineRede['text']}' \"\"\"\n",
    "\n",
    "chat = lms.Chat()\n",
    "chat.add_system_prompt(system_msg)\n",
    "chat.add_user_message(user_msg)\n",
    "result = model.respond(chat)\n",
    "\n",
    "print(result)\n"
   ],
   "metadata": {
    "collapsed": false,
    "ExecuteTime": {
     "end_time": "2025-06-03T09:51:01.920205Z",
     "start_time": "2025-06-03T09:50:50.463555Z"
    }
   },
   "id": "19d87269d5011cc6"
  },
  {
   "cell_type": "code",
   "execution_count": null,
   "outputs": [],
   "source": [],
   "metadata": {
    "collapsed": false
   },
   "id": "cf75ed7631c7e6a1"
  }
 ],
 "metadata": {
  "kernelspec": {
   "display_name": "Python 3",
   "language": "python",
   "name": "python3"
  },
  "language_info": {
   "codemirror_mode": {
    "name": "ipython",
    "version": 2
   },
   "file_extension": ".py",
   "mimetype": "text/x-python",
   "name": "python",
   "nbconvert_exporter": "python",
   "pygments_lexer": "ipython2",
   "version": "2.7.6"
  }
 },
 "nbformat": 4,
 "nbformat_minor": 5
}
