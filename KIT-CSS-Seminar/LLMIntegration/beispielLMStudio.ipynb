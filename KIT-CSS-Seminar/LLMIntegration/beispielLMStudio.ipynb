{
 "cells": [
  {
   "cell_type": "markdown",
   "source": [
    "## Vorbereitung LM Studio\n",
    "\n",
    "Zunächst müssen wir LM Studio installieren und mindestens ein LLM herunterladen. Als Beispiel hier habe ich das LLAMA 3.1 Model (8B) geladen.\n",
    "\n",
    "Dieses Modell müssen wir in LM Studio lokal starten. Es läuft dann lokal auf dem Rechner, und wird automatisch gefunden.\n",
    "\n",
    "Dafür (und sowieso) brauchen wir die richtige Library und müssen das Modell instantiieren."
   ],
   "metadata": {
    "collapsed": false
   },
   "id": "aae74d7978f49d9a"
  },
  {
   "cell_type": "code",
   "execution_count": 1,
   "id": "initial_id",
   "metadata": {
    "collapsed": true,
    "ExecuteTime": {
     "end_time": "2025-06-04T12:36:14.970148Z",
     "start_time": "2025-06-04T12:36:14.809345Z"
    }
   },
   "outputs": [],
   "source": [
    "\n",
    "import lmstudio as lms\n",
    "\n",
    "model = lms.llm(\"meta-llama-3.1-8b-instruct\")"
   ]
  },
  {
   "cell_type": "markdown",
   "source": [
    "### Wir probieren aus ob das prinzipiell klappt "
   ],
   "metadata": {
    "collapsed": false
   },
   "id": "dc226056415a8b04"
  },
  {
   "cell_type": "code",
   "execution_count": 2,
   "outputs": [
    {
     "name": "stdout",
     "output_type": "stream",
     "text": [
      "I'm an artificial intelligence model known as Llama. Llama stands for \"Large Language Model Meta AI.\"\n"
     ]
    }
   ],
   "source": [
    "result = model.respond(\"Who are you?\")\n",
    "print(result)"
   ],
   "metadata": {
    "collapsed": false,
    "ExecuteTime": {
     "end_time": "2025-06-04T12:36:20.764722Z",
     "start_time": "2025-06-04T12:36:20.112112Z"
    }
   },
   "id": "f8e21498b59c78c5"
  },
  {
   "cell_type": "markdown",
   "source": [
    "## Laden der Reden\n",
    "\n",
    "Wir wollen ja, das LLM benutzen, um die Reden zu charakterisieren. Also müssen wir die Reden laden. Das machen wir wie immer."
   ],
   "metadata": {
    "collapsed": false
   },
   "id": "bbd1e5483f4caa63"
  },
  {
   "cell_type": "code",
   "execution_count": 3,
   "outputs": [
    {
     "name": "stdout",
     "output_type": "stream",
     "text": [
      "25643\n"
     ]
    }
   ],
   "source": [
    "import jsonlines\n",
    "\n",
    "legislatur = 20\n",
    "\n",
    "alleReden = []\n",
    "with jsonlines.open(f'../../data/speeches_{legislatur}.jsonl') as f:\n",
    "    for line in f.iter():\n",
    "        #for line in list(f):\n",
    "        alleReden.append(line)\n",
    "\n",
    "alleReden.sort(key = lambda x:x['date'])\n",
    "print(len(alleReden))"
   ],
   "metadata": {
    "collapsed": false,
    "ExecuteTime": {
     "end_time": "2025-06-04T12:36:27.660522Z",
     "start_time": "2025-06-04T12:36:27.276539Z"
    }
   },
   "id": "47a2cebc43b3f609"
  },
  {
   "cell_type": "code",
   "execution_count": 4,
   "outputs": [
    {
     "name": "stdout",
     "output_type": "stream",
     "text": [
      "Von mir aus nicht, Herr Spahn. Bleiben Sie ruhig sitzen. Herr Spahn, ich finde das eigentlich gut, was Sie gesagt haben, weil wir jetzt in ein Gespräch kommen, und das biete ich der Union, das bieten wir alle der Union an, auch über diese Abstimmung heute hinaus. Wir sind schon im Hauptausschuss auf die Union zugegangen. Ich habe es in vier Jahren Opposition nicht einmal erlebt – nicht einmal! –, dass wir noch während einer laufenden Sitzung eine Änderung an einem Vorschlag der Regierungsfraktionen vorgenommen haben. Das ist diese Woche passiert. Ich weiß nicht, wie weit wir noch auf Sie zugehen sollen. Aber woran es krankt, ist: Sie machen keine konkreten Vorschläge. Sie sagen uns nicht, was genau Sie wollen. Kommen Sie auf uns zu, und wir reden gerne weiter. Vielen Dank. – Als nächster Redner hat jetzt das Wort für die FDP-Fraktion Michael Theurer. \n"
     ]
    }
   ],
   "source": [
    "welche = 102\n",
    "eineRede = alleReden[welche]\n",
    "print(eineRede['text'])"
   ],
   "metadata": {
    "collapsed": false,
    "ExecuteTime": {
     "end_time": "2025-06-04T12:36:40.953338Z",
     "start_time": "2025-06-04T12:36:40.946027Z"
    }
   },
   "id": "2dd20002fea9c4af"
  },
  {
   "cell_type": "markdown",
   "source": [
    "## Eine erste Anfrage"
   ],
   "metadata": {
    "collapsed": false
   },
   "id": "39e8e595660c27aa"
  },
  {
   "cell_type": "code",
   "execution_count": 5,
   "outputs": [
    {
     "name": "stdout",
     "output_type": "stream",
     "text": [
      "Ich werde dir den Inhalt der Rede zusammenfassen.\n",
      "\n",
      "Die Rede ist von einer Fraktionskollegin in der Bundesversammlung abgehalten worden, der weder der CDU noch der FDP angehört hat. Der Sprecher spricht in dieser Rede über das Gespräch mit Herrn Spahn. \n",
      "\n",
      "Sie finden es gut, dass er gesprochen hat und biete die Opposition darin an, weiterhin zu sprechen, auch über diese Abstimmung hinaus. Sie haben ja schon im Hauptausschuss auf die Union zugegangen und sind bereit, noch mehr auf sie zuzugehen.\n",
      "\n",
      "Der Grund dafür ist aber, dass Herr Spahn keine konkreten Vorschläge gemacht hat. Er sagt ihnen nicht genau, was er will. Sie laden ihn ein, auf sie zu kommen, um weiter zu sprechen. \n",
      "\n",
      "Sie bedanken sich im Anschluss bei Herrn Theurer für die Übergabe des Wortes und beginnen mit ihren eigenen Gedanken an der FDP.\n"
     ]
    }
   ],
   "source": [
    "system_msg = 'Du bist eine Experte in deutscher Politik. Dein Ziel ist es, den Menschen in Deutschland aktuelle politische Diskussionen verständlicher zu machen.'\n",
    "\n",
    "user_msg = f\"\"\"Kannst mir den Inhalt folgender Bundestagsrede zusammenfassen? Hier ist die Rede: '{eineRede['text']}' \"\"\"\n",
    "\n",
    "chat = lms.Chat()\n",
    "chat.add_system_prompt(system_msg)\n",
    "chat.add_user_message(user_msg)\n",
    "result = model.respond(chat)\n",
    "\n",
    "print(result)"
   ],
   "metadata": {
    "collapsed": false,
    "ExecuteTime": {
     "end_time": "2025-06-04T12:36:48.926048Z",
     "start_time": "2025-06-04T12:36:43.912977Z"
    }
   },
   "id": "c540e21d35d17b13"
  },
  {
   "cell_type": "markdown",
   "source": [
    "## Let's play!"
   ],
   "metadata": {
    "collapsed": false
   },
   "id": "5bb20d2b10c15508"
  },
  {
   "cell_type": "code",
   "execution_count": 8,
   "outputs": [
    {
     "name": "stdout",
     "output_type": "stream",
     "text": [
      "Sehr geehrte Frau Präsidentin! Liebe Kolleginnen und Kollegen! In kaum einem anderen Bereich klaffen Anspruch und Wirklichkeit so weit auseinander wie in der Menschenrechtspolitik der Bundesregierung. Im Iran werden täglich grundlegende Menschenrechte verletzt, doch die Bundesregierung reagiert darauf nur halbherzig. Unsere Außenministerin bietet Showpolitik mit starken Sätzen, denen aber keine Taten folgen. Wir warten immer noch darauf, dass die iranischen Revolutionsgarden als Terrororganisation gelistet werden. In Gaza wurden in sechs Monaten Krieg Tausende von Zivilistinnen getötet, über 1 Million Frauen und Mädchen wurden laut UN Women vertrieben – von feministischer Außenpolitik keine Spur. Die Bundesregierung muss endlich ihrer völkerrechtlichen Verantwortung gerecht werden. Sie muss sich klar und deutlich für einen Waffenstillstand in Israel und Gaza einsetzen. Der Export von Rüstungsgütern nach Israel und in alle anderen Kriegs- und Krisenregionen muss gestoppt werden. Auch im eigenen Land versagt die Bundesregierung bei der Einhaltung von Menschenrechten. Amnesty International spricht von Negativentwicklungen in sechs Bereichen in Deutschland: Die Istanbul-Konvention, die Gewalt gegen Frauen bekämpfen soll, wird unzureichend umgesetzt. Zu wenige Frauenhäuser stehen zur Verfügung, um den Opfern von Gewalt einen sicheren Zufluchtsort zu bieten. Und wir brauchen laut Amnesty International schnellstmöglich auch ein eigenständiges Aufenthaltsrecht für migrantische Frauen, die von Gewalt betroffen sind. Auch zu § 218 Strafgesetzbuch findet sich nichts im Bericht der Bundesregierung. Die Verankerung des Schwangerschaftsabbruchs als Straftat gleich hinter Mord und Totschlag ist einfach nicht akzeptabel. Dieses Gesetz spricht Frauen weiter das Recht am eigenen Körper ab und kriminalisiert Frauen und die Ärzteschaft, und das schon seit der Kaiserzeit. Der § 218 muss endlich abgeschafft werden. Es geht um das Selbstbestimmungsrecht der Frauen. Liebe Kolleginnen und Kollegen der Ampelparteien, das Zeitfenster ist da. Es geht um Menschenrechte der Frauen in Deutschland. Daher muss der § 218 endlich gestrichen werden. Vielen Dank an alle Menschenrechtsaktivistinnen und -aktivisten weltweit, die sich unter schwierigen Bedingungen für die Stärkung von Menschenrechten einsetzen! Vielen Dank. Das Wort hat der Kollege Dr. Jonas Geissler für die CDU/CSU-Fraktion. \n"
     ]
    }
   ],
   "source": [
    "welche = 20201\n",
    "eineRede = alleReden[welche]\n",
    "print(eineRede['text'])"
   ],
   "metadata": {
    "collapsed": false,
    "ExecuteTime": {
     "end_time": "2025-06-04T12:38:41.459925Z",
     "start_time": "2025-06-04T12:38:41.452813Z"
    }
   },
   "id": "59069ca9e5fb8d23"
  },
  {
   "cell_type": "code",
   "execution_count": 10,
   "outputs": [
    {
     "name": "stdout",
     "output_type": "stream",
     "text": [
      "{\n",
      "  \"Thema\": \"Menschenrechtspolitik und internationale Beziehungen\",\n",
      "  \"Stance\": \"Ablehnend / Kritisch\",\n",
      "  \"Begründung\": \"Der Redner kritisiert die Bundesregierung für ihre 'halbherzige' Reaktion auf Menschenrechtsverletzungen in Iran und Gaza, fordert einen Waffenstillstand und den Export von Rüstungsgütern zu stoppen und hebt auch die mangelhafte Umsetzung der Istanbul-Konvention und die Abschaffung des § 218 Strafgesetzbuch als notwendig für Menschenrechte auf. Der Redner wirkt kritisch gegenüber der aktuellen Politik der Bundesregierung.\"\n",
      "}\n"
     ]
    }
   ],
   "source": [
    "\n",
    "# Liste möglicher Themen im Bundestag\n",
    "THEMEN_KATEGORIEN = [\n",
    "    \"Außenpolitik und internationale Beziehungen\",\n",
    "    \"Verteidigung und Bundeswehr\",\n",
    "    \"Europapolitik\",\n",
    "    \"Wirtschaft und Industrie\",\n",
    "    \"Arbeitsmarkt und Beschäftigung\",\n",
    "    \"Finanzen und Steuern\",\n",
    "    \"Gesundheit und Pflege\",\n",
    "    \"Bildung und Forschung\",\n",
    "    \"Digitalisierung und Technologie\",\n",
    "    \"Klimaschutz und Umwelt\",\n",
    "    \"Energiepolitik\",\n",
    "    \"Verkehr und Infrastruktur\",\n",
    "    \"Soziale Gerechtigkeit und Wohlfahrt\",\n",
    "    \"Familie und Gleichstellung\",\n",
    "    \"Migration und Integration\",\n",
    "    \"Innere Sicherheit und Polizei\",\n",
    "    \"Justiz und Rechtsstaat\",\n",
    "    \"Demokratie und Parlamentarismus\",\n",
    "    \"Verbraucherschutz\",\n",
    "    \"Landwirtschaft und Ernährung\",\n",
    "    \"Wohnungsbau und Mieten\",\n",
    "    \"Kultur und Medien\",\n",
    "    \"Religionspolitik\",\n",
    "    \"Entwicklungspolitik\",\n",
    "    \"Sport\",\n",
    "    \"Bildungspolitik (Schule, Hochschule)\",\n",
    "    \"Rentensystem und Altersvorsorge\",\n",
    "    \"Steuerpolitik\",\n",
    "    \"Bundeshaushalt\",\n",
    "    \"Ländliche Räume und Strukturpolitik\"\n",
    "]\n",
    "\n",
    "kategorien = \"\\n\".join(f\"- {k}\" for k in THEMEN_KATEGORIEN)\n",
    "\n",
    "system_msg = 'Du bist ein politischer Analyst und klassifizierst Bundestagsreden nach Thema und Haltung.'\n",
    "\n",
    "user_msg = f\"\"\"\n",
    "Analysiere die folgende Rede aus dem Deutschen Bundestag.\n",
    "\n",
    "1. Wähle **ein Thema** aus der folgenden Liste, das am besten zur Rede passt:\n",
    "{kategorien}\n",
    "\n",
    "2. Klassifiziere die **Haltung (Stance)** des Redners zu diesem Thema:\n",
    "   – Zustimmend / Unterstützend\n",
    "   – Ablehnend / Kritisch\n",
    "   – Neutral / Ausgewogen\n",
    "\n",
    "3. Gib eine kurze Begründung auf Basis des Redeinhalts (Zitat oder sinngemäße Aussage).\n",
    "\n",
    "Gib die Antwort im JSON-Format zurück:\n",
    "\n",
    "{{\n",
    "  \"Thema\": \"...\",\n",
    "  \"Stance\": \"...\",\n",
    "  \"Begründung\": \"...\"\n",
    "}}\n",
    "\n",
    "### Rede:\n",
    "{eineRede['text']}\n",
    "\"\"\".strip()\n",
    "\n",
    "chat = lms.Chat()\n",
    "chat.add_system_prompt(system_msg)\n",
    "chat.add_user_message(user_msg)\n",
    "result = model.respond(chat)\n",
    "\n",
    "print(result)\n"
   ],
   "metadata": {
    "collapsed": false,
    "ExecuteTime": {
     "end_time": "2025-06-04T13:04:14.272821Z",
     "start_time": "2025-06-04T13:04:08.882255Z"
    }
   },
   "id": "19d87269d5011cc6"
  },
  {
   "cell_type": "code",
   "execution_count": null,
   "outputs": [],
   "source": [],
   "metadata": {
    "collapsed": false
   },
   "id": "cf75ed7631c7e6a1"
  }
 ],
 "metadata": {
  "kernelspec": {
   "display_name": "Python 3",
   "language": "python",
   "name": "python3"
  },
  "language_info": {
   "codemirror_mode": {
    "name": "ipython",
    "version": 2
   },
   "file_extension": ".py",
   "mimetype": "text/x-python",
   "name": "python",
   "nbconvert_exporter": "python",
   "pygments_lexer": "ipython2",
   "version": "2.7.6"
  }
 },
 "nbformat": 4,
 "nbformat_minor": 5
}
