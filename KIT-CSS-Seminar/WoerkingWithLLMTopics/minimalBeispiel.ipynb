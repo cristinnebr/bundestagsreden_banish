{
 "cells": [
  {
   "cell_type": "code",
   "execution_count": 2,
   "id": "initial_id",
   "metadata": {
    "collapsed": true,
    "ExecuteTime": {
     "end_time": "2025-07-05T06:14:50.273340Z",
     "start_time": "2025-07-05T06:14:50.256211Z"
    }
   },
   "outputs": [],
   "source": [
    "import jsonlines\n",
    "import json"
   ]
  },
  {
   "cell_type": "code",
   "execution_count": 3,
   "outputs": [
    {
     "data": {
      "text/plain": "25187"
     },
     "execution_count": 3,
     "metadata": {},
     "output_type": "execute_result"
    }
   ],
   "source": [
    "legislatur = 20\n",
    "\n",
    "alleReden = []\n",
    "with jsonlines.open(f'../../data/speeches_{legislatur}.jsonl') as f:\n",
    "    for line in f.iter():\n",
    "        #for line in list(f):\n",
    "        alleReden.append(line)\n",
    "\n",
    "alleReden.sort(key = lambda x:x['date'])\n",
    "len(alleReden)"
   ],
   "metadata": {
    "collapsed": false,
    "ExecuteTime": {
     "end_time": "2025-07-05T06:14:51.989856Z",
     "start_time": "2025-07-05T06:14:51.539367Z"
    }
   },
   "id": "31961e79501f31d5"
  },
  {
   "cell_type": "markdown",
   "source": [
    "# Laden der Themen-Annotationen"
   ],
   "metadata": {
    "collapsed": false
   },
   "id": "d47788fdda664a97"
  },
  {
   "cell_type": "code",
   "execution_count": 4,
   "outputs": [],
   "source": [
    "\n",
    "# Load the topic annotations\n",
    "with open(\"topic_annotations_WP20.json\", \"r\", encoding=\"utf-8\") as f:\n",
    "    themen = json.load(f)"
   ],
   "metadata": {
    "collapsed": false,
    "ExecuteTime": {
     "end_time": "2025-07-05T06:14:54.430386Z",
     "start_time": "2025-07-05T06:14:54.390247Z"
    }
   },
   "id": "fd4e6f510b27d372"
  },
  {
   "cell_type": "markdown",
   "source": [],
   "metadata": {
    "collapsed": false
   },
   "id": "22f2bb98003ea87e"
  },
  {
   "cell_type": "code",
   "execution_count": 5,
   "outputs": [
    {
     "name": "stdout",
     "output_type": "stream",
     "text": [
      "Sehr geehrter Herr Präsident! Meine sehr geehrten Damen und Herren! Liebe Kolleginnen und Kollegen! Ich freue mich sehr, dass ich gerade meine erste Rede im Deutschen Bundestag zur Vereinbarkeit von Familie und Beruf halten darf. Das ist das zentrale Thema für junge Familien. Das spüren wir, die wir eine Familie haben, im Übrigen in regelmäßigen Abständen selbst. Ich weiß, dass es ganz vielen Familien in unserem Land ähnlich geht. So gehört es zur Realität, dass gerade die Betreuung von Kleinkindern ohne die Großeltern oft nur sehr schwer zu organisieren ist. Ich glaube, es ist unsere gesamtgesellschaftliche Aufgabe, weiter an der Verbesserung der Rahmenbedingungen zu arbeiten, damit in Deutschland mehr Kinder auf die Welt kommen und damit unser Land insgesamt noch kinderfreundlicher wird. Um es gleich zu sagen: Ich bin der Meinung, dass der Staat nicht alle Herausforderungen von jungen Familien bewältigen muss. Die Erziehung von Kindern ist und bleibt zuvörderst Aufgabe ihrer Eltern. Wir wollen als Union auch nicht in die freie Entscheidung der Familien eingreifen; wir schreiben keinen Weg vor. Auch Familienarbeit ist Arbeit und verdient unsere Unterstützung und Anerkennung. Für diejenigen, die Erwerbstätigkeit und Familienarbeit besser verbinden möchten, wollen wir etwas tun. Um es heute noch einmal ganz deutlich zu betonen – ich glaube, das ist notwendig –: Elterngeld Plus und auch die Partnerschaftsmonate tragen die Handschrift der Union. Sie tragen ganz erheblich dazu bei, dass Beruf und Familie besser zu vereinbaren sind, gerade wenn die Kinder klein sind. Das sollten wir heute auch nicht kleinreden. Wir sollten um kurz nach 9 Uhr hier auch noch nicht herumschreien und völlig am Thema vorbeisprechen. Den Geist, von dem Sie, liebe Kollegen von der AfD, heute gesprochen haben, den haben wir heute Morgen erlebt. Wir haben auch gestern wieder gesehen, welcher Geist hier eingezogen ist. Wir erwarten von Ihnen, dass Sie endlich einmal konkrete Vorschläge machen, wie Sie die Situation von Familien in Deutschland verbessern wollen. Ich kann es Ihnen noch einmal sagen: Das Elterngeld Plus ist eine Erfolgsgeschichte. Ich finde, wir sollten darauf stolz sein. Diese Regelung ermöglicht Eltern, die Kindeserziehung länger gemeinschaftlich aufzuteilen und zugleich den Anschluss im Beruf nicht zu verlieren. Das ist ein gutes Angebot für Familien, und es verwundert nicht – wir haben es ja heute gehört –, dass es immer besser angenommen wird, insbesondere auch von den Vätern. Der vorliegende Bericht zeigt auch: Das Elterngeld Plus ermöglicht insbesondere Frauen einen früheren Wiedereinstieg in den Beruf. In unserer sich immer schneller verändernden, digitaler werdenden Arbeitswelt wird das auch immer wichtiger. Denken Sie einmal an eine Mutter, die im weitesten Sinne im IT-Bereich tätig ist und für die es nach über acht Jahren Familienauszeit gilt, sich wieder in ihren Job zu integrieren. Das ist durchaus anspruchsvoll. Im Übrigen ist dieser Fall nicht konstruiert, sondern ein Beispiel aus meinem eigenen Berufsleben als Personalleiter eines mittelständischen Energieversorgers. Das zeigt, wie wichtig es ist, früher den Wiedereinstieg in den Arbeitsplatz zu finden, wenn man das möchte. Das ist wichtig für Eltern und im Übrigen auch für Arbeitgeber. Früher in Teilzeit zurückzukommen, das macht gerade das Elterngeld Plus möglich. Zugleich stellt es aber auch eine große Herausforderung für Unternehmen dar; ich finde, das muss man heute Morgen auch einmal sagen. Es ist durchaus eine Herausforderung, wenn monatsweise, teilweise auch für länger, Mitarbeiterinnen und Mitarbeiter in Elternzeit gehen und für diesen Zeitraum ersetzt werden müssen, weil sie eben nicht ersatzlos wegfallen können. Wenn in einer Schicht einer fehlt, muss für Ersatz gesorgt werden. Deswegen ist das für Unternehmen eine Chance, aber immer auch eine Herausforderung. Beruf und Familie zu vereinbaren, ist also schon vielfach Thema in der alltäglichen Arbeit unserer Unternehmen. Die Zeiten, in denen Vorstellungsgespräche vor allem Gehaltsverhandlungen waren, in denen es also vor allem um die Höhe des Einkommens ging, sind lange vorbei. Stattdessen geht es um Fragen wie: Wie kann ich meine neue Arbeitsstelle mit meinem Familienleben kompatibel machen? Kann ich an einem Tag oder an zwei Tagen pro Woche auch von zu Hause arbeiten? Kann ich meine Arbeitszeit flexibel gestalten, also am Nachmittag nach Hause gehen, mit den Kindern spielen und dann, wenn die im Bett liegen, wieder weiterarbeiten? Das sind die Themen dieser Zeit, mit denen wir uns, denke ich, beschäftigen sollten. Das Elterngeld Plus und der Partnerschaftsbonus können eine Antwort auf diese Frage geben – eine von vielen Antworten, wohlgemerkt; aber sie sind ein wichtiger Beitrag dazu, dass wir als Land kinderfreundlicher werden. Natürlich gibt es beim Elterngeld Plus auch Dinge, die wir verbessern können. „Die Rheinpfalz“ – das ist die Lokalzeitung meiner Heimatstadt Ludwigshafen – hat im Vorfeld über diese Rede berichtet. Wir haben sehr viele Rückmeldungen zum Thema Elterngeld Plus bekommen. Das zeigt, wie sehr es die Menschen auch im Wahlkreis bewegt. Es ist sehr viel Lob dabei, aber es gibt durchaus auch Dinge, die wir noch besser machen können. Es ist eine komplexe Regelung geworden. Es ist eine Regelung, die durchaus auch bürokratisch ist, und Familien fühlen sich dabei nicht immer optimal beraten. Deswegen glaube ich schon, dass wir noch einiges zu tun haben. Wir brauchen eine Auskunftsstelle für alle Familienangelegenheiten, an die sich Familien wenden können. Das ist und bleibt unser Ziel. Darüber hinaus gibt es noch vieles Weitere zu tun, glaube ich, damit unsere Gesellschaft und unsere Arbeitswelt noch kinder- und familienfreundlicher werden. Unsere bisherigen Anstrengungen – das kann ich für die Union sagen – werden wir in den kommenden vier Jahren fortsetzen. Ich werde dazu gern auch meinen Beitrag leisten. Vielen Dank. Jetzt hat das Wort die Kollegin Katja Mast, SPD-Fraktion. \n",
      "\n",
      " \n",
      "\n",
      "{'Familienpolitik': 1.0, 'Arbeitsmarkt': 0.8, 'Gesellschaft und Familie': 0.4, 'Bildung': 0.4, 'Gesundheitswesen': 0.2, 'Geschlechtergerechtigkeit': 0.2}\n"
     ]
    }
   ],
   "source": [
    "rede = alleReden[1022]\n",
    "print(rede['text'])\n",
    "print('\\n \\n')\n",
    "print(themen[rede['id']])\n"
   ],
   "metadata": {
    "collapsed": false,
    "ExecuteTime": {
     "end_time": "2025-07-05T06:14:58.343853Z",
     "start_time": "2025-07-05T06:14:58.336178Z"
    }
   },
   "id": "c22aebcb32eb9d6c"
  },
  {
   "cell_type": "code",
   "execution_count": 28,
   "outputs": [
    {
     "data": {
      "text/plain": "{'Geschlechtergerechtigkeit': 1.0,\n 'Familienpolitik': 1.0,\n 'Bildungsgerechtigkeit': 0.6,\n 'Bildung': 0.2,\n 'Soziale Ungleichheit': 0.2}"
     },
     "execution_count": 28,
     "metadata": {},
     "output_type": "execute_result"
    }
   ],
   "source": [
    "themen[rede['id']]"
   ],
   "metadata": {
    "collapsed": false,
    "ExecuteTime": {
     "end_time": "2025-07-02T19:15:19.042107Z",
     "start_time": "2025-07-02T19:15:19.031059Z"
    }
   },
   "id": "73d03f91ce956a5"
  },
  {
   "cell_type": "code",
   "execution_count": 29,
   "outputs": [],
   "source": [],
   "metadata": {
    "collapsed": false,
    "ExecuteTime": {
     "end_time": "2025-07-02T19:32:38.888673Z",
     "start_time": "2025-07-02T19:32:38.880431Z"
    }
   },
   "id": "4bb009ea90573c9b"
  },
  {
   "cell_type": "code",
   "execution_count": null,
   "outputs": [],
   "source": [],
   "metadata": {
    "collapsed": false
   },
   "id": "11bbbbd1092e8b91"
  }
 ],
 "metadata": {
  "kernelspec": {
   "display_name": "Python 3",
   "language": "python",
   "name": "python3"
  },
  "language_info": {
   "codemirror_mode": {
    "name": "ipython",
    "version": 2
   },
   "file_extension": ".py",
   "mimetype": "text/x-python",
   "name": "python",
   "nbconvert_exporter": "python",
   "pygments_lexer": "ipython2",
   "version": "2.7.6"
  }
 },
 "nbformat": 4,
 "nbformat_minor": 5
}
