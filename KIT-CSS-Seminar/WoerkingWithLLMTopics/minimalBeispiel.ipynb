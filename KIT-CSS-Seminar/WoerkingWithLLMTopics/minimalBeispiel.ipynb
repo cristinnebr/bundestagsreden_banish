{
 "cells": [
  {
   "cell_type": "code",
   "execution_count": 17,
   "id": "initial_id",
   "metadata": {
    "collapsed": true,
    "ExecuteTime": {
     "end_time": "2025-07-02T17:33:42.876714Z",
     "start_time": "2025-07-02T17:33:42.865508Z"
    }
   },
   "outputs": [],
   "source": [
    "import jsonlines\n",
    "import json"
   ]
  },
  {
   "cell_type": "code",
   "execution_count": 23,
   "outputs": [
    {
     "data": {
      "text/plain": "25643"
     },
     "execution_count": 23,
     "metadata": {},
     "output_type": "execute_result"
    }
   ],
   "source": [
    "legislatur = 20\n",
    "\n",
    "alleReden = []\n",
    "with jsonlines.open(f'../../data/speeches_{legislatur}.jsonl') as f:\n",
    "    for line in f.iter():\n",
    "        #for line in list(f):\n",
    "        alleReden.append(line)\n",
    "\n",
    "alleReden.sort(key = lambda x:x['date'])\n",
    "len(alleReden)"
   ],
   "metadata": {
    "collapsed": false,
    "ExecuteTime": {
     "end_time": "2025-07-02T17:36:59.877296Z",
     "start_time": "2025-07-02T17:36:59.549811Z"
    }
   },
   "id": "31961e79501f31d5"
  },
  {
   "cell_type": "markdown",
   "source": [
    "# Laden der Themen-Annotationen"
   ],
   "metadata": {
    "collapsed": false
   },
   "id": "d47788fdda664a97"
  },
  {
   "cell_type": "code",
   "execution_count": 26,
   "outputs": [],
   "source": [
    "\n",
    "# Load the topic annotations\n",
    "with open(\"topic_annotations_WP20.json\", \"r\", encoding=\"utf-8\") as f:\n",
    "    themen = json.load(f)"
   ],
   "metadata": {
    "collapsed": false,
    "ExecuteTime": {
     "end_time": "2025-07-02T19:15:13.246170Z",
     "start_time": "2025-07-02T19:15:13.201155Z"
    }
   },
   "id": "fd4e6f510b27d372"
  },
  {
   "cell_type": "markdown",
   "source": [],
   "metadata": {
    "collapsed": false
   },
   "id": "22f2bb98003ea87e"
  },
  {
   "cell_type": "code",
   "execution_count": 27,
   "outputs": [
    {
     "name": "stdout",
     "output_type": "stream",
     "text": [
      "Sehr geehrter Herr Präsident! Sehr geehrte Damen und Herren! Sehr geehrte Kolleginnen und Kollegen! Weltweit werden zum Weltfrauentag am 8. März schöne Reden gehalten. Diesen müssen auch Taten folgen. Einiges haben wir in Deutschland schon erreicht, aber es gibt auch noch viel zu tun; daran erinnert der Weltfrauentag. Es geht um faire Chancen, es geht um Gerechtigkeit, und es geht um Respekt – für Mütter zum Beispiel. Als Mutter von vier Kindern weiß ich, was viele Frauen jeden Tag leisten: morgens früh aufstehen, die Kinder fertig machen, zur Schule bringen, zur Arbeit hetzen, zum Einkaufen, bei den Hausaufgaben helfen, die Wäsche machen und, und, und. Am Ende des Tages bleibt kaum mehr Zeit für sich selbst. Und ich, ich klage noch auf hohem Niveau; denn ich habe einen wirklich tollen Mann, der sich um die Kinder kümmert, während ich hier zu Ihnen sprechen darf. Doch das ist im Jahre 2022 in Deutschland häufig immer noch die Ausnahme von der Regel. Veraltete Rollenbilder und Strukturen stehen Frauen im Weg, im ländlichen Raum häufig noch mehr als in der Großstadt. Sie ignorieren auch die Vielfältigkeit moderner Familienkonstellationen. Zum Beispiel tragen Alleinerziehende allein die Verantwortung für ihre Familie und arbeiten quasi nebenbei. In der Regel betrifft das Frauen. Respekt, Gerechtigkeit und faire Chancen verlangen auch, dass wir etwas dagegen unternehmen, dass Frauen durchschnittlich 18 Prozent weniger je Stunde verdienen als Männer. Sie arbeiten häufig in schlechter bezahlten Berufen und verdienen selbst dort noch weniger als ihre männlichen Kollegen. Ich bin froh, dass die Bundesregierung diese Frauen mit einem deutlich höheren Mindestlohn von 12 Euro pro Stunde stärken will. Frauen profitieren am meisten davon. Aber mit dem höheren Mindestlohn wäre noch nichts für die Frauen getan, die Care-Arbeit in der eigenen Familie unentgeltlich leisten. Frauen wenden pro Tag im Schnitt 52,4 Prozent mehr Zeit für unbezahlte Sorgearbeit auf als Männer. Deshalb arbeiten sie häufiger in Teilzeit, zahlen weniger in die eigene Altersvorsorge ein und sind am Ende stärker von Altersarmut bedroht. Es darf nicht sein, dass Sorgearbeit, also der Dienst an Familie und Gesellschaft, zu Armut im Alter führt. Frauen brauchen flexiblere Strukturen, um am Wirtschaftsleben teilzuhaben. Mit der Brückenteilzeit haben wir 2019 ein wichtiges Instrument eingeführt. Frauen, die Kinder erziehen, Angehörige pflegen oder sich ehrenamtlich engagieren wollen, haben größere Spielräume bekommen. Die Möglichkeit zur Brückenteilzeit besteht übrigens auch für Männer. Vielleicht ist das auch ein weiterer Anreiz, damit sie mehr Care-Aufgaben übernehmen. Manche tun das schließlich richtig gerne. Gute Frauenpolitik dient also auch Männern und hilft ihnen, aus unfreiwilligen Rollen auszubrechen. Gute Frauenpolitik ist gute Familienpolitik, die die Vielfältigkeit von Familienformen in unserem Land stärkt und es Frauen wie Männern ermöglicht, flexibel auf veränderte Lebensumstände zu reagieren. Daran werden wir weiter arbeiten, damit Frauen, Mütter und Familien so leben können, wie sie es möchten, und die Unterstützung bekommen, die sie brauchen. Vielen Dank. Vielen Dank, Frau Kollegin Lahrkamp. – Als Nächstes erhält das Wort die Kollegin Dorothee Bär, CDU/CSU-Fraktion. \n",
      "\n",
      " \n",
      "\n",
      "{'Geschlechtergerechtigkeit': 1.0, 'Familienpolitik': 1.0, 'Bildungsgerechtigkeit': 0.6, 'Bildung': 0.2, 'Soziale Ungleichheit': 0.2}\n"
     ]
    }
   ],
   "source": [
    "rede = alleReden[1022]\n",
    "print(rede['text'])\n",
    "print('\\n \\n')\n",
    "print(themen[rede['id']])\n"
   ],
   "metadata": {
    "collapsed": false,
    "ExecuteTime": {
     "end_time": "2025-07-02T19:15:17.088303Z",
     "start_time": "2025-07-02T19:15:17.072617Z"
    }
   },
   "id": "c22aebcb32eb9d6c"
  },
  {
   "cell_type": "code",
   "execution_count": 28,
   "outputs": [
    {
     "data": {
      "text/plain": "{'Geschlechtergerechtigkeit': 1.0,\n 'Familienpolitik': 1.0,\n 'Bildungsgerechtigkeit': 0.6,\n 'Bildung': 0.2,\n 'Soziale Ungleichheit': 0.2}"
     },
     "execution_count": 28,
     "metadata": {},
     "output_type": "execute_result"
    }
   ],
   "source": [
    "themen[rede['id']]"
   ],
   "metadata": {
    "collapsed": false,
    "ExecuteTime": {
     "end_time": "2025-07-02T19:15:19.042107Z",
     "start_time": "2025-07-02T19:15:19.031059Z"
    }
   },
   "id": "73d03f91ce956a5"
  },
  {
   "cell_type": "code",
   "execution_count": 29,
   "outputs": [
    {
     "name": "stdout",
     "output_type": "stream",
     "text": [
      "🚨 Missing 0 speech annotations.\n"
     ]
    },
    {
     "data": {
      "text/plain": "0"
     },
     "execution_count": 29,
     "metadata": {},
     "output_type": "execute_result"
    }
   ],
   "source": [],
   "metadata": {
    "collapsed": false,
    "ExecuteTime": {
     "end_time": "2025-07-02T19:15:28.557875Z",
     "start_time": "2025-07-02T19:15:28.550429Z"
    }
   },
   "id": "4bb009ea90573c9b"
  },
  {
   "cell_type": "code",
   "execution_count": null,
   "outputs": [],
   "source": [],
   "metadata": {
    "collapsed": false
   },
   "id": "11bbbbd1092e8b91"
  }
 ],
 "metadata": {
  "kernelspec": {
   "display_name": "Python 3",
   "language": "python",
   "name": "python3"
  },
  "language_info": {
   "codemirror_mode": {
    "name": "ipython",
    "version": 2
   },
   "file_extension": ".py",
   "mimetype": "text/x-python",
   "name": "python",
   "nbconvert_exporter": "python",
   "pygments_lexer": "ipython2",
   "version": "2.7.6"
  }
 },
 "nbformat": 4,
 "nbformat_minor": 5
}
